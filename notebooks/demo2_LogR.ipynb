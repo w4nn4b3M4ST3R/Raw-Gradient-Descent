{
 "cells": [
  {
   "cell_type": "markdown",
   "id": "37b87123",
   "metadata": {},
   "source": [
    "# Adviewers Classification"
   ]
  },
  {
   "cell_type": "code",
   "execution_count": null,
   "id": "6cd6da3f",
   "metadata": {},
   "outputs": [],
   "source": [
    "import pandas as pd\n",
    "import numpy as np\n",
    "from sklearn.model_selection import train_test_split\n",
    "from sklearn.metrics import accuracy_score, confusion_matrix, classification_report, precision_recall_curve, roc_curve, roc_auc_score\n",
    "from sklearn.preprocessing import StandardScaler,OneHotEncoder\n",
    "from scipy.stats import skew, kurtosis\n",
    "import seaborn as sns\n",
    "import matplotlib.pyplot as plt"
   ]
  },
  {
   "cell_type": "markdown",
   "id": "9d47f69a",
   "metadata": {},
   "source": [
    "### Create DataFrame"
   ]
  },
  {
   "cell_type": "code",
   "execution_count": null,
   "id": "8c25ddc3",
   "metadata": {},
   "outputs": [],
   "source": [
    "np.random.seed(42)\n",
    "n = 10000\n",
    "\n",
    "age = np.random.randint(18, 60, size=n)\n",
    "gender = np.random.choice([0, 1], size=n)\n",
    "estimated_salary = np.random.normal(50_000_000, 30_000_000, size=n).clip(5_000_000, 200_000_000)\n",
    "time_on_page = np.random.normal(60, 30, size=n).clip(5, 300) \n",
    "ads_viewed = np.random.poisson(4, size=n).clip(0, 20)\n",
    "clicked_ad = np.random.binomial(1, p=ads_viewed/20) \n",
    "registered = np.random.binomial(1, p=(clicked_ad * 0.7 + 0.2))\n",
    "\n",
    "\n",
    "purchase_prob = (\n",
    "    0.2 * (clicked_ad) +\n",
    "    0.3 * (registered) +\n",
    "    0.1 * (time_on_page > 60).astype(int) +\n",
    "    0.1 * (ads_viewed > 5).astype(int) +\n",
    "    0.05 * (estimated_salary > 50_000_000).astype(int)\n",
    ")\n",
    "purchase_prob = np.clip(purchase_prob, 0, 1)\n",
    "purchased = np.random.binomial(1, p=purchase_prob)\n",
    "\n",
    "\n",
    "df = pd.DataFrame({\n",
    "    'Age': age,\n",
    "    'Gender': gender,\n",
    "    'EstimatedSalary': estimated_salary.astype(int),\n",
    "    'TimeOnPage': time_on_page.round(1),\n",
    "    'AdsViewed': ads_viewed,\n",
    "    'ClickedAd': clicked_ad,\n",
    "    'Registered': registered,\n",
    "    'Purchased': purchased\n",
    "})\n",
    "\n",
    "\n",
    "df.loc[df.sample(frac=0.05).index, 'Age'] = np.nan\n",
    "df.loc[df.sample(frac=0.03).index, 'EstimatedSalary'] = np.nan\n",
    "df.loc[df.sample(frac=0.02).index, 'Gender'] = np.nan\n",
    "\n",
    "\n",
    "df"
   ]
  },
  {
   "cell_type": "markdown",
   "id": "c7e1896a",
   "metadata": {},
   "source": [
    "### Processing"
   ]
  },
  {
   "cell_type": "code",
   "execution_count": null,
   "id": "334f8561",
   "metadata": {},
   "outputs": [],
   "source": [
    "df.info()"
   ]
  },
  {
   "cell_type": "code",
   "execution_count": null,
   "id": "d36a351f",
   "metadata": {},
   "outputs": [],
   "source": [
    "print(df.isnull().mean()*100)"
   ]
  },
  {
   "cell_type": "code",
   "execution_count": null,
   "id": "6e77fa0c",
   "metadata": {},
   "outputs": [],
   "source": [
    "df.dropna(inplace=True)"
   ]
  },
  {
   "cell_type": "code",
   "execution_count": null,
   "id": "25282c6d",
   "metadata": {},
   "outputs": [],
   "source": [
    "df.describe()"
   ]
  },
  {
   "cell_type": "code",
   "execution_count": null,
   "id": "bdcfa748",
   "metadata": {},
   "outputs": [],
   "source": [
    "df['Clicked&Registed'] = df['ClickedAd'] & df['Registered']\n",
    "df['AdPerMin'] = df['AdsViewed'] / df['TimeOnPage']\n",
    "\n",
    "df['AgeGroup'] = pd.cut(df['Age'],bins=[17,25,35,50,100],labels=['Young','Adult','Middle-aged','Elderly'])\n",
    "df['SalaryRange'] = pd.cut(df['EstimatedSalary'],bins=[0,20000000,50000000,100000000,np.inf],labels=['Low','Middle','High','Very High'])\n",
    "df['EngagementScore'] = df['TimeOnPage'] * (df['ClickedAd'] + 1) * (df['Registered'] + 1)\n",
    "\n",
    "categorical = ['Gender','ClickedAd','Registered','Clicked&Registed','AgeGroup','SalaryRange']\n",
    "\n",
    "for c in categorical:\n",
    "    df[c] = df[c].astype('category')\n",
    "\n",
    "df['Purchased'] = df['Purchased'].astype('category')\n",
    "\n",
    "df['Gender'] = df['Gender'].map({0: 'Male', 1: 'Female'})\n",
    "\n",
    "for c in ['ClickedAd','Registered','Clicked&Registed']:\n",
    "    df[c] = df[c].map({0:'No',1:'Yes'})\n"
   ]
  },
  {
   "cell_type": "code",
   "execution_count": null,
   "id": "ba91fc1f",
   "metadata": {},
   "outputs": [],
   "source": [
    "df.info()"
   ]
  },
  {
   "cell_type": "code",
   "execution_count": null,
   "id": "f6ed000d",
   "metadata": {},
   "outputs": [],
   "source": [
    "numerical = ['Age','EstimatedSalary','TimeOnPage','AdsViewed','AdPerMin','EngagementScore']"
   ]
  },
  {
   "cell_type": "code",
   "execution_count": null,
   "id": "c237f882",
   "metadata": {},
   "outputs": [],
   "source": [
    "num_stats ={}\n",
    "fig, axes = plt.subplots(2,3,figsize=(24,14))\n",
    "for r in range(2):\n",
    "    for c in range(3):\n",
    "        col = numerical[r*3 + c]\n",
    "        fea = df[col]\n",
    "        sk = skew(fea)\n",
    "        kur = kurtosis(fea)\n",
    "        num_stats[col] = sk,kur\n",
    "        bins = 20\n",
    "        if col == 'AdsViewed': bins = 13\n",
    "        sns.histplot(df,x=fea,kde= True,bins=bins,hue='Purchased',palette='muted',ax=axes[r,c])\n",
    "        axes[r,c].set_title(f'Purchased based on {col}',fontsize=16)\n",
    "        axes[r,c].set_xlabel(f'{col}',fontsize=14)\n",
    "        axes[r,c].set_ylabel('Count',fontsize=14)\n",
    "plt.tight_layout()        \n",
    "plt.show()"
   ]
  },
  {
   "cell_type": "code",
   "execution_count": null,
   "id": "6e69f1f0",
   "metadata": {},
   "outputs": [],
   "source": [
    "fig, axes = plt.subplots(2,3,figsize=(24,14))\n",
    "for r in range(2):\n",
    "    for c in range(3):\n",
    "        col = categorical[r*3 + c]\n",
    "        fea = df[col]\n",
    "        sns.countplot(data=df,x=fea,hue='Purchased',palette='deep',ax=axes[r,c])\n",
    "        axes[r,c].set_title(f'Purchased based on {col}',fontsize=16)\n",
    "        axes[r,c].set_xlabel(f'{col}',fontsize=14)\n",
    "        axes[r,c].set_ylabel('Count',fontsize=14)\n",
    "plt.tight_layout()        \n",
    "plt.show()\n",
    "    "
   ]
  },
  {
   "cell_type": "code",
   "execution_count": null,
   "id": "c5265a5d",
   "metadata": {},
   "outputs": [],
   "source": [
    "def remove_outliers(df,fea):\n",
    "    Q1 = df[fea].quantile(0.25)\n",
    "    Q3 = df[fea].quantile(0.75)\n",
    "    IRQ = Q3 - Q1\n",
    "\n",
    "    lb = Q1 - 1.5*IRQ\n",
    "    ub = Q3 + 1.5*IRQ\n",
    "\n",
    "    filtered_df = df[(df[fea]>=lb) & (df[fea]<=ub)]\n",
    "    return filtered_df\n",
    "\n",
    "for fea in numerical:\n",
    "    sk, kur = num_stats[fea]\n",
    "    abs_sk = abs(sk)\n",
    "    \n",
    "    if abs_sk > 5:\n",
    "        df[fea] =  np.log1p(df[fea])\n",
    "    elif abs_sk > 3:\n",
    "        df[fea] =  (df[fea])**0.3\n",
    "    elif abs_sk > 1:\n",
    "        df.loc[:, fea] = np.sqrt(df[fea])\n",
    "\n",
    "    if kur > 5:\n",
    "        df = remove_outliers(df,fea)\n",
    "    elif kur <-5:\n",
    "        df[fea] = StandardScaler().fit_transform(df[fea])"
   ]
  },
  {
   "cell_type": "code",
   "execution_count": null,
   "id": "e319dd1a",
   "metadata": {},
   "outputs": [],
   "source": [
    "class LogisticRegression:\n",
    "    def __init__(self, learningrate=0.01, epochs=1000):\n",
    "        self.lr = learningrate\n",
    "        self.epochs = epochs\n",
    "        self.w = None\n",
    "        self.b = None\n",
    "        self.loss_list = []\n",
    "\n",
    "    def initial(self, n_features: int):\n",
    "        self.w = np.zeros(n_features)\n",
    "        self.b = 0\n",
    "\n",
    "    def sigmoid(self, x):\n",
    "        x = np.clip(x, -500, 500)\n",
    "        return 1 / (1 + np.exp(-x))\n",
    "\n",
    "    def get_loss_list(self):\n",
    "        return self.loss_list\n",
    "\n",
    "    def fit(self, X, Y):\n",
    "        X = np.array(X)\n",
    "        Y = np.array(Y)\n",
    "\n",
    "        if X.ndim == 1:\n",
    "            X.resize(-1, 1)\n",
    "\n",
    "        len_val, len_fea = X.shape\n",
    "        self.initial(len_fea)\n",
    "        for epoch in range(self.epochs):\n",
    "\n",
    "            Y_hat = np.clip(\n",
    "                self.sigmoid(np.dot(X, self.w) + self.b), 1e-15, 1 - 1e-15\n",
    "            )\n",
    "            cross_entropy = -np.mean(\n",
    "                Y * np.log(Y_hat) + (1 - Y) * np.log(1 - Y_hat)\n",
    "            )\n",
    "            self.loss_list.append(cross_entropy)\n",
    "\n",
    "            dw = np.dot(X.T, (Y_hat - Y)) / len_val\n",
    "            db = np.sum(Y_hat - Y) / len_val\n",
    "\n",
    "            self.w -= self.lr * dw\n",
    "            self.b -= self.lr * db\n",
    "\n",
    "    def predict(self, X, threshold=0.5):\n",
    "        X = np.array(X)\n",
    "        Z = np.dot(X, self.w) + self.b\n",
    "        Y_pred = self.sigmoid(Z)\n",
    "        return [1 if y_pred >= threshold else 0 for y_pred in Y_pred]\n",
    "    \n",
    "    def predict_prob(self,X):\n",
    "        X = np.array(X)\n",
    "        Z = np.dot(X, self.w) + self.b\n",
    "        return self.sigmoid(Z)\n",
    "\n",
    "\n",
    "    def get_params(self):\n",
    "        return self.w, self.b"
   ]
  },
  {
   "cell_type": "code",
   "execution_count": null,
   "id": "345e744c",
   "metadata": {},
   "outputs": [],
   "source": [
    "X = df.drop(columns=['Purchased'])\n",
    "y = df['Purchased']\n",
    "print(pd.Series(y).value_counts())"
   ]
  },
  {
   "cell_type": "code",
   "execution_count": null,
   "id": "32948bda",
   "metadata": {},
   "outputs": [],
   "source": [
    "encoder = OneHotEncoder(sparse_output=False,handle_unknown='ignore',drop='first')\n",
    "X_cat = encoder.fit_transform(X[categorical])\n",
    "X_num = X[numerical]\n",
    "X = np.hstack([X_num, X_cat])\n"
   ]
  },
  {
   "cell_type": "code",
   "execution_count": null,
   "id": "1a39d07b",
   "metadata": {},
   "outputs": [],
   "source": [
    "\n",
    "X_train, X_val, y_train, y_val = train_test_split(X, y, test_size = 0.2, random_state = 42)\n",
    "scaler = StandardScaler()\n",
    "X_train_scaled = scaler.fit_transform(X_train)\n",
    "X_val_scaled = scaler.transform(X_val)\n",
    "from imblearn.over_sampling import SMOTE # balance the data\n",
    "smote = SMOTE(sampling_strategy='minority')\n",
    "X_train_scaled, y_train_scaled = smote.fit_resample(X_train_scaled,y_train)"
   ]
  },
  {
   "cell_type": "code",
   "execution_count": null,
   "id": "30257d5a",
   "metadata": {},
   "outputs": [],
   "source": [
    "logR_model = LogisticRegression(epochs=3000)\n",
    "logR_model.fit(X_train_scaled,y_train_scaled)"
   ]
  },
  {
   "cell_type": "code",
   "execution_count": null,
   "id": "2a5eb93e",
   "metadata": {},
   "outputs": [],
   "source": [
    "y_pred = logR_model.predict(X_val_scaled)\n",
    "print(f'Accuracy: {accuracy_score(y_val,y_pred)}')\n",
    "print(classification_report(y_val,y_pred,zero_division=0))\n"
   ]
  },
  {
   "cell_type": "code",
   "execution_count": null,
   "id": "a47bb30f",
   "metadata": {},
   "outputs": [],
   "source": [
    "cm = confusion_matrix(y_val,y_pred)\n",
    "sns.heatmap(cm,annot=True,fmt='d',cmap='viridis',xticklabels=['No','Yes'],yticklabels=['No','Yes'])\n",
    "plt.title('Confusion Matrix')\n",
    "plt.xlabel('Predicted')\n",
    "plt.ylabel('Actual')\n",
    "plt.show()"
   ]
  },
  {
   "cell_type": "code",
   "execution_count": null,
   "id": "88cc23c3",
   "metadata": {},
   "outputs": [],
   "source": [
    "y_prob = logR_model.predict_prob(X_val_scaled)\n",
    "precisions,recalls,thresholds =  precision_recall_curve(y_val,y_prob)\n",
    "f1s = 2 * (precisions * recalls) / (precisions + recalls + 1e-20)\n",
    "\n",
    "best_threshold = thresholds[f1s.argmax()]\n",
    "\n",
    "plt.figure(figsize=(10,8))\n",
    "plt.plot(thresholds,precisions[:-1],c='red',label = 'Precision')\n",
    "plt.plot(thresholds,recalls[:-1],label= 'Recall')\n",
    "plt.plot(thresholds,f1s[:-1],label = 'F1 Score', c='orange')\n",
    "plt.axvline(x=best_threshold,c='green',linestyle='--',label=f'Best Threshold: {best_threshold:.2f}')\n",
    "plt.legend()\n",
    "plt.grid(True)\n",
    "plt.title('Precision - Recall Tradeoff over Threshold ')\n",
    "plt.show()\n"
   ]
  },
  {
   "cell_type": "code",
   "execution_count": null,
   "id": "063fee3b",
   "metadata": {},
   "outputs": [],
   "source": [
    "fpr, tpr, thresholds = roc_curve(y_val, y_prob)\n",
    "\n",
    "auc_score = roc_auc_score(y_val, y_prob)\n",
    "\n",
    "\n",
    "plt.figure(figsize=(10,8))\n",
    "plt.plot(fpr,tpr,color='blue',label=f'ROC Curve: AUC= {auc_score:2f}')\n",
    "plt.plot([0,1],[0,1],linestyle='--',label='Random classifier line',c='k')\n",
    "plt.xlabel('False Positive Rate')\n",
    "plt.ylabel('True Positive Rate')\n",
    "plt.title('Receiver Operating Characteristic Curve')\n",
    "plt.legend()\n",
    "plt.grid(True)\n",
    "plt.show()"
   ]
  }
 ],
 "metadata": {
  "kernelspec": {
   "display_name": "Python (System)",
   "language": "python",
   "name": "python-system"
  },
  "language_info": {
   "codemirror_mode": {
    "name": "ipython",
    "version": 3
   },
   "file_extension": ".py",
   "mimetype": "text/x-python",
   "name": "python",
   "nbconvert_exporter": "python",
   "pygments_lexer": "ipython3",
   "version": "3.13.5"
  }
 },
 "nbformat": 4,
 "nbformat_minor": 5
}
