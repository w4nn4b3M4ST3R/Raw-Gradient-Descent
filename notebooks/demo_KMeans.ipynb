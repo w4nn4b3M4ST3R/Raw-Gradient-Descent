{
 "cells": [
  {
   "cell_type": "markdown",
   "id": "1e39f78d",
   "metadata": {},
   "source": [
    "# **KMeans Clustering for Customer Data**"
   ]
  },
  {
   "cell_type": "code",
   "execution_count": 1,
   "id": "7de5d0ff",
   "metadata": {},
   "outputs": [],
   "source": [
    "import numpy as np\n",
    "import random"
   ]
  },
  {
   "cell_type": "code",
   "execution_count": 2,
   "id": "a4d6c539",
   "metadata": {},
   "outputs": [],
   "source": [
    "class KMeans: \n",
    "    def __init__(self,n_clusters:int, max_iter = 1000, random_state = 42):\n",
    "        self.K = n_clusters\n",
    "        self.max_iter = max_iter\n",
    "        self.seed = random_state\n",
    "        self.centers = []\n",
    "        self.labels = []\n",
    "\n",
    "    def distance (self,x,y):\n",
    "        return np.sqrt(np.array((x-y)**2).sum())\n",
    "\n",
    "    def set_label(self,X):\n",
    "        self.labels = []\n",
    "        for x in X:\n",
    "            distance = []\n",
    "            for center in self.centers:\n",
    "                distance.append(self.distance(x,center))\n",
    "            self.labels.append(distance.index(min(distance)))\n",
    "\n",
    "    def fit (self,X):\n",
    "        random.seed(self.seed)\n",
    "        X = np.array(X)\n",
    "        lenX = len(X)\n",
    "        initial_indices = random.sample(range(lenX), self.K)\n",
    "        self.centers = [X[idx] for idx in initial_indices]\n",
    "        self.set_label(X)\n",
    "        \n",
    "        for iter_num in range(self.max_iter):\n",
    "            new_centers = []\n",
    "            for i in range(self.K):\n",
    "                members = X[np.array(self.labels) == i]\n",
    "                if len(members) :\n",
    "                    new_centers.append(members.mean(axis=0))\n",
    "                else: new_centers.append(X[random.randint(0,lenX-1)])\n",
    "            if np.allclose(np.array(new_centers), np.array(self.centers)): break\n",
    "            self.centers = new_centers\n",
    "            self.set_label(X)\n",
    "    \n",
    "    def cluster_centers_(self):\n",
    "        return np.array(self.centers)\n",
    "    \n",
    "    def labels_(self):\n",
    "        return np.array(self.labels)\n",
    "    \n",
    "    def predict(self,X):\n",
    "        labels = []\n",
    "        for x in X:\n",
    "            distance = []\n",
    "            for center in self.centers:\n",
    "                distance.append(self.distance(x,center))\n",
    "            labels.append(distance.index(min(distance)))\n",
    "        return np.array(labels)\n",
    "    \n",
    "    def get_inertias(self,X):\n",
    "        X = np.array(X)\n",
    "        inertia = 0\n",
    "        for x in X:\n",
    "            dists = [np.sum((x - c)**2) for c in self.centers]\n",
    "            inertia += min(dists)\n",
    "        return inertia\n"
   ]
  },
  {
   "cell_type": "code",
   "execution_count": 3,
   "id": "ef2b505a",
   "metadata": {},
   "outputs": [
    {
     "data": {
      "application/vnd.microsoft.datawrangler.viewer.v0+json": {
       "columns": [
        {
         "name": "CustomerID",
         "rawType": "int64",
         "type": "integer"
        },
        {
         "name": "Gender",
         "rawType": "object",
         "type": "string"
        },
        {
         "name": "Age",
         "rawType": "int64",
         "type": "integer"
        },
        {
         "name": "Annual Income (k$)",
         "rawType": "int64",
         "type": "integer"
        },
        {
         "name": "Spending Score (1-100)",
         "rawType": "int64",
         "type": "integer"
        }
       ],
       "ref": "293c7f72-17c1-4851-9ac8-d11a5e541e0f",
       "rows": [
        [
         "1",
         "Male",
         "19",
         "15",
         "39"
        ],
        [
         "2",
         "Male",
         "21",
         "15",
         "81"
        ],
        [
         "3",
         "Female",
         "20",
         "16",
         "6"
        ],
        [
         "4",
         "Female",
         "23",
         "16",
         "77"
        ],
        [
         "5",
         "Female",
         "31",
         "17",
         "40"
        ],
        [
         "6",
         "Female",
         "22",
         "17",
         "76"
        ],
        [
         "7",
         "Female",
         "35",
         "18",
         "6"
        ],
        [
         "8",
         "Female",
         "23",
         "18",
         "94"
        ],
        [
         "9",
         "Male",
         "64",
         "19",
         "3"
        ],
        [
         "10",
         "Female",
         "30",
         "19",
         "72"
        ],
        [
         "11",
         "Male",
         "67",
         "19",
         "14"
        ],
        [
         "12",
         "Female",
         "35",
         "19",
         "99"
        ],
        [
         "13",
         "Female",
         "58",
         "20",
         "15"
        ],
        [
         "14",
         "Female",
         "24",
         "20",
         "77"
        ],
        [
         "15",
         "Male",
         "37",
         "20",
         "13"
        ],
        [
         "16",
         "Male",
         "22",
         "20",
         "79"
        ],
        [
         "17",
         "Female",
         "35",
         "21",
         "35"
        ],
        [
         "18",
         "Male",
         "20",
         "21",
         "66"
        ],
        [
         "19",
         "Male",
         "52",
         "23",
         "29"
        ],
        [
         "20",
         "Female",
         "35",
         "23",
         "98"
        ],
        [
         "21",
         "Male",
         "35",
         "24",
         "35"
        ],
        [
         "22",
         "Male",
         "25",
         "24",
         "73"
        ],
        [
         "23",
         "Female",
         "46",
         "25",
         "5"
        ],
        [
         "24",
         "Male",
         "31",
         "25",
         "73"
        ],
        [
         "25",
         "Female",
         "54",
         "28",
         "14"
        ],
        [
         "26",
         "Male",
         "29",
         "28",
         "82"
        ],
        [
         "27",
         "Female",
         "45",
         "28",
         "32"
        ],
        [
         "28",
         "Male",
         "35",
         "28",
         "61"
        ],
        [
         "29",
         "Female",
         "40",
         "29",
         "31"
        ],
        [
         "30",
         "Female",
         "23",
         "29",
         "87"
        ],
        [
         "31",
         "Male",
         "60",
         "30",
         "4"
        ],
        [
         "32",
         "Female",
         "21",
         "30",
         "73"
        ],
        [
         "33",
         "Male",
         "53",
         "33",
         "4"
        ],
        [
         "34",
         "Male",
         "18",
         "33",
         "92"
        ],
        [
         "35",
         "Female",
         "49",
         "33",
         "14"
        ],
        [
         "36",
         "Female",
         "21",
         "33",
         "81"
        ],
        [
         "37",
         "Female",
         "42",
         "34",
         "17"
        ],
        [
         "38",
         "Female",
         "30",
         "34",
         "73"
        ],
        [
         "39",
         "Female",
         "36",
         "37",
         "26"
        ],
        [
         "40",
         "Female",
         "20",
         "37",
         "75"
        ],
        [
         "41",
         "Female",
         "65",
         "38",
         "35"
        ],
        [
         "42",
         "Male",
         "24",
         "38",
         "92"
        ],
        [
         "43",
         "Male",
         "48",
         "39",
         "36"
        ],
        [
         "44",
         "Female",
         "31",
         "39",
         "61"
        ],
        [
         "45",
         "Female",
         "49",
         "39",
         "28"
        ],
        [
         "46",
         "Female",
         "24",
         "39",
         "65"
        ],
        [
         "47",
         "Female",
         "50",
         "40",
         "55"
        ],
        [
         "48",
         "Female",
         "27",
         "40",
         "47"
        ],
        [
         "49",
         "Female",
         "29",
         "40",
         "42"
        ],
        [
         "50",
         "Female",
         "31",
         "40",
         "42"
        ]
       ],
       "shape": {
        "columns": 4,
        "rows": 200
       }
      },
      "text/html": [
       "<div>\n",
       "<style scoped>\n",
       "    .dataframe tbody tr th:only-of-type {\n",
       "        vertical-align: middle;\n",
       "    }\n",
       "\n",
       "    .dataframe tbody tr th {\n",
       "        vertical-align: top;\n",
       "    }\n",
       "\n",
       "    .dataframe thead th {\n",
       "        text-align: right;\n",
       "    }\n",
       "</style>\n",
       "<table border=\"1\" class=\"dataframe\">\n",
       "  <thead>\n",
       "    <tr style=\"text-align: right;\">\n",
       "      <th></th>\n",
       "      <th>Gender</th>\n",
       "      <th>Age</th>\n",
       "      <th>Annual Income (k$)</th>\n",
       "      <th>Spending Score (1-100)</th>\n",
       "    </tr>\n",
       "    <tr>\n",
       "      <th>CustomerID</th>\n",
       "      <th></th>\n",
       "      <th></th>\n",
       "      <th></th>\n",
       "      <th></th>\n",
       "    </tr>\n",
       "  </thead>\n",
       "  <tbody>\n",
       "    <tr>\n",
       "      <th>1</th>\n",
       "      <td>Male</td>\n",
       "      <td>19</td>\n",
       "      <td>15</td>\n",
       "      <td>39</td>\n",
       "    </tr>\n",
       "    <tr>\n",
       "      <th>2</th>\n",
       "      <td>Male</td>\n",
       "      <td>21</td>\n",
       "      <td>15</td>\n",
       "      <td>81</td>\n",
       "    </tr>\n",
       "    <tr>\n",
       "      <th>3</th>\n",
       "      <td>Female</td>\n",
       "      <td>20</td>\n",
       "      <td>16</td>\n",
       "      <td>6</td>\n",
       "    </tr>\n",
       "    <tr>\n",
       "      <th>4</th>\n",
       "      <td>Female</td>\n",
       "      <td>23</td>\n",
       "      <td>16</td>\n",
       "      <td>77</td>\n",
       "    </tr>\n",
       "    <tr>\n",
       "      <th>5</th>\n",
       "      <td>Female</td>\n",
       "      <td>31</td>\n",
       "      <td>17</td>\n",
       "      <td>40</td>\n",
       "    </tr>\n",
       "    <tr>\n",
       "      <th>...</th>\n",
       "      <td>...</td>\n",
       "      <td>...</td>\n",
       "      <td>...</td>\n",
       "      <td>...</td>\n",
       "    </tr>\n",
       "    <tr>\n",
       "      <th>196</th>\n",
       "      <td>Female</td>\n",
       "      <td>35</td>\n",
       "      <td>120</td>\n",
       "      <td>79</td>\n",
       "    </tr>\n",
       "    <tr>\n",
       "      <th>197</th>\n",
       "      <td>Female</td>\n",
       "      <td>45</td>\n",
       "      <td>126</td>\n",
       "      <td>28</td>\n",
       "    </tr>\n",
       "    <tr>\n",
       "      <th>198</th>\n",
       "      <td>Male</td>\n",
       "      <td>32</td>\n",
       "      <td>126</td>\n",
       "      <td>74</td>\n",
       "    </tr>\n",
       "    <tr>\n",
       "      <th>199</th>\n",
       "      <td>Male</td>\n",
       "      <td>32</td>\n",
       "      <td>137</td>\n",
       "      <td>18</td>\n",
       "    </tr>\n",
       "    <tr>\n",
       "      <th>200</th>\n",
       "      <td>Male</td>\n",
       "      <td>30</td>\n",
       "      <td>137</td>\n",
       "      <td>83</td>\n",
       "    </tr>\n",
       "  </tbody>\n",
       "</table>\n",
       "<p>200 rows × 4 columns</p>\n",
       "</div>"
      ],
      "text/plain": [
       "            Gender  Age  Annual Income (k$)  Spending Score (1-100)\n",
       "CustomerID                                                         \n",
       "1             Male   19                  15                      39\n",
       "2             Male   21                  15                      81\n",
       "3           Female   20                  16                       6\n",
       "4           Female   23                  16                      77\n",
       "5           Female   31                  17                      40\n",
       "...            ...  ...                 ...                     ...\n",
       "196         Female   35                 120                      79\n",
       "197         Female   45                 126                      28\n",
       "198           Male   32                 126                      74\n",
       "199           Male   32                 137                      18\n",
       "200           Male   30                 137                      83\n",
       "\n",
       "[200 rows x 4 columns]"
      ]
     },
     "execution_count": 3,
     "metadata": {},
     "output_type": "execute_result"
    }
   ],
   "source": [
    "import pandas as pd\n",
    "\n",
    "df = pd.read_csv('../data/Mall_Customers.csv',index_col='CustomerID')\n",
    "df"
   ]
  },
  {
   "cell_type": "code",
   "execution_count": 4,
   "id": "01e185f0",
   "metadata": {},
   "outputs": [
    {
     "name": "stdout",
     "output_type": "stream",
     "text": [
      "<class 'pandas.core.frame.DataFrame'>\n",
      "Index: 200 entries, 1 to 200\n",
      "Data columns (total 4 columns):\n",
      " #   Column                  Non-Null Count  Dtype \n",
      "---  ------                  --------------  ----- \n",
      " 0   Gender                  200 non-null    object\n",
      " 1   Age                     200 non-null    int64 \n",
      " 2   Annual Income (k$)      200 non-null    int64 \n",
      " 3   Spending Score (1-100)  200 non-null    int64 \n",
      "dtypes: int64(3), object(1)\n",
      "memory usage: 7.8+ KB\n"
     ]
    }
   ],
   "source": [
    "df.info()"
   ]
  },
  {
   "cell_type": "code",
   "execution_count": 5,
   "id": "7e565a54",
   "metadata": {},
   "outputs": [
    {
     "data": {
      "application/vnd.microsoft.datawrangler.viewer.v0+json": {
       "columns": [
        {
         "name": "index",
         "rawType": "object",
         "type": "string"
        },
        {
         "name": "Age",
         "rawType": "float64",
         "type": "float"
        },
        {
         "name": "Annual Income (k$)",
         "rawType": "float64",
         "type": "float"
        },
        {
         "name": "Spending Score (1-100)",
         "rawType": "float64",
         "type": "float"
        }
       ],
       "ref": "f0aff19d-76ab-4d94-9b27-e4042580be54",
       "rows": [
        [
         "count",
         "200.0",
         "200.0",
         "200.0"
        ],
        [
         "mean",
         "38.85",
         "60.56",
         "50.2"
        ],
        [
         "std",
         "13.96900733155888",
         "26.264721165271244",
         "25.823521668370173"
        ],
        [
         "min",
         "18.0",
         "15.0",
         "1.0"
        ],
        [
         "25%",
         "28.75",
         "41.5",
         "34.75"
        ],
        [
         "50%",
         "36.0",
         "61.5",
         "50.0"
        ],
        [
         "75%",
         "49.0",
         "78.0",
         "73.0"
        ],
        [
         "max",
         "70.0",
         "137.0",
         "99.0"
        ]
       ],
       "shape": {
        "columns": 3,
        "rows": 8
       }
      },
      "text/html": [
       "<div>\n",
       "<style scoped>\n",
       "    .dataframe tbody tr th:only-of-type {\n",
       "        vertical-align: middle;\n",
       "    }\n",
       "\n",
       "    .dataframe tbody tr th {\n",
       "        vertical-align: top;\n",
       "    }\n",
       "\n",
       "    .dataframe thead th {\n",
       "        text-align: right;\n",
       "    }\n",
       "</style>\n",
       "<table border=\"1\" class=\"dataframe\">\n",
       "  <thead>\n",
       "    <tr style=\"text-align: right;\">\n",
       "      <th></th>\n",
       "      <th>Age</th>\n",
       "      <th>Annual Income (k$)</th>\n",
       "      <th>Spending Score (1-100)</th>\n",
       "    </tr>\n",
       "  </thead>\n",
       "  <tbody>\n",
       "    <tr>\n",
       "      <th>count</th>\n",
       "      <td>200.000000</td>\n",
       "      <td>200.000000</td>\n",
       "      <td>200.000000</td>\n",
       "    </tr>\n",
       "    <tr>\n",
       "      <th>mean</th>\n",
       "      <td>38.850000</td>\n",
       "      <td>60.560000</td>\n",
       "      <td>50.200000</td>\n",
       "    </tr>\n",
       "    <tr>\n",
       "      <th>std</th>\n",
       "      <td>13.969007</td>\n",
       "      <td>26.264721</td>\n",
       "      <td>25.823522</td>\n",
       "    </tr>\n",
       "    <tr>\n",
       "      <th>min</th>\n",
       "      <td>18.000000</td>\n",
       "      <td>15.000000</td>\n",
       "      <td>1.000000</td>\n",
       "    </tr>\n",
       "    <tr>\n",
       "      <th>25%</th>\n",
       "      <td>28.750000</td>\n",
       "      <td>41.500000</td>\n",
       "      <td>34.750000</td>\n",
       "    </tr>\n",
       "    <tr>\n",
       "      <th>50%</th>\n",
       "      <td>36.000000</td>\n",
       "      <td>61.500000</td>\n",
       "      <td>50.000000</td>\n",
       "    </tr>\n",
       "    <tr>\n",
       "      <th>75%</th>\n",
       "      <td>49.000000</td>\n",
       "      <td>78.000000</td>\n",
       "      <td>73.000000</td>\n",
       "    </tr>\n",
       "    <tr>\n",
       "      <th>max</th>\n",
       "      <td>70.000000</td>\n",
       "      <td>137.000000</td>\n",
       "      <td>99.000000</td>\n",
       "    </tr>\n",
       "  </tbody>\n",
       "</table>\n",
       "</div>"
      ],
      "text/plain": [
       "              Age  Annual Income (k$)  Spending Score (1-100)\n",
       "count  200.000000          200.000000              200.000000\n",
       "mean    38.850000           60.560000               50.200000\n",
       "std     13.969007           26.264721               25.823522\n",
       "min     18.000000           15.000000                1.000000\n",
       "25%     28.750000           41.500000               34.750000\n",
       "50%     36.000000           61.500000               50.000000\n",
       "75%     49.000000           78.000000               73.000000\n",
       "max     70.000000          137.000000               99.000000"
      ]
     },
     "execution_count": 5,
     "metadata": {},
     "output_type": "execute_result"
    }
   ],
   "source": [
    "df.describe()"
   ]
  },
  {
   "cell_type": "code",
   "execution_count": 6,
   "id": "ba700e4f",
   "metadata": {},
   "outputs": [],
   "source": [
    "X = df.drop(columns=['Gender','Spending Score (1-100)'])\n",
    "y = df['Spending Score (1-100)']"
   ]
  },
  {
   "cell_type": "code",
   "execution_count": 7,
   "id": "43cf1b29",
   "metadata": {},
   "outputs": [
    {
     "data": {
      "image/png": "[encoded data removed]",
      "text/plain": [
       "<Figure size 640x480 with 1 Axes>"
      ]
     },
     "metadata": {},
     "output_type": "display_data"
    }
   ],
   "source": [
    "from sklearn.preprocessing import StandardScaler\n",
    "from sklearn.model_selection import train_test_split\n",
    "import matplotlib.pyplot as plt\n",
    "\n",
    "X_train, X_temp , y_train, y_temp = train_test_split(X, y, test_size=0.2, random_state=42)\n",
    "\n",
    "X_val, X_test, y_val, y_test = train_test_split(X_temp,y_temp,test_size=0.5, random_state=42)\n",
    "\n",
    "scaler = StandardScaler()\n",
    "X_train_scaled = scaler.fit_transform(X_train)\n",
    "X_val_scaled = scaler.transform(X_val)\n",
    "X_test_scaled = scaler.transform(X_test)\n",
    "\n",
    "\n",
    "\n",
    "inertias = []\n",
    "\n",
    "for n in range (20):\n",
    "    kmeans_model = KMeans(n+1)\n",
    "    kmeans_model.fit(X_train_scaled)\n",
    "    inertias.append(kmeans_model.get_inertias(X_val_scaled))\n",
    "\n",
    "plt.plot(range(1, 21), inertias, marker='o')\n",
    "plt.xlabel('Number of Clusters')\n",
    "plt.ylabel('Inertia')\n",
    "plt.title('Elbow Method for Optimal K')\n",
    "plt.xticks(range(1, 21))\n",
    "plt.grid(True)\n",
    "plt.tight_layout()\n",
    "plt.show()"
   ]
  },
  {
   "cell_type": "code",
   "execution_count": 8,
   "id": "52b9df72",
   "metadata": {},
   "outputs": [],
   "source": [
    "\n",
    "kmeans_model = KMeans(5)\n",
    "kmeans_model.fit(X_train_scaled)\n",
    "y_pred = kmeans_model.predict(X_test_scaled)\n",
    "centers = kmeans_model.cluster_centers_()"
   ]
  },
  {
   "cell_type": "code",
   "execution_count": 9,
   "id": "7397c7e8",
   "metadata": {},
   "outputs": [
    {
     "data": {
      "image/png": "[encoded data removed]",
      "text/plain": [
       "<Figure size 640x480 with 1 Axes>"
      ]
     },
     "metadata": {},
     "output_type": "display_data"
    }
   ],
   "source": [
    "plt.scatter(X_test_scaled[:,0],X_test_scaled[:,1],c=y_pred,cmap = 'viridis',label='Customers')\n",
    "plt.scatter(centers[:,0],centers[:,1],c='red',s=100,marker='X',edgecolor='k',label='Centers')\n",
    "\n",
    "plt.legend()\n",
    "plt.title('KMeans Clustering for Customer Data')\n",
    "plt.tight_layout()\n",
    "plt.show()"
   ]
  }
 ],
 "metadata": {
  "kernelspec": {
   "display_name": "Python 3",
   "language": "python",
   "name": "python3"
  },
  "language_info": {
   "codemirror_mode": {
    "name": "ipython",
    "version": 3
   },
   "file_extension": ".py",
   "mimetype": "text/x-python",
   "name": "python",
   "nbconvert_exporter": "python",
   "pygments_lexer": "ipython3",
   "version": "3.13.5"
  }
 },
 "nbformat": 4,
 "nbformat_minor": 5
}
