{
 "cells": [
  {
   "cell_type": "markdown",
   "id": "25b29619",
   "metadata": {},
   "source": [
    "## 🎓 MACHINE LEARNING EXERCISE: PREDICTING CUSTOMER PURCHASES AFTER VIEWING ADS\n",
    "\n",
    "---\n",
    "\n",
    "### 🔍 Problem Description:\n",
    "Company A is running advertising campaigns on social media and wants to predict whether a user visiting their website after seeing an\n",
    "ad will make a purchase.\n",
    "\n",
    "This prediction helps the company optimize its ad budget and focus more effectively on potential buyers.\n",
    "\n",
    "---\n",
    "\n",
    "### 📥 Input Features:\n",
    "You’re given a dataset containing the following user information:\n",
    "\n",
    "Age: User's age\n",
    "\n",
    "Gender: User’s gender\n",
    "\n",
    "EstimatedSalary: Estimated salary\n",
    "\n",
    "TimeOnPage: Time spent browsing the website\n",
    "\n",
    "AdsViewed: Number of times the user saw the ad\n",
    "\n",
    "ClickedAd: Whether the user clicked on the ad (0 = No, 1 = Yes)\n",
    "\n",
    "Registered: Whether the user registered for an account (0 = No, 1 = Yes)\n",
    "\n",
    "---\n",
    "\n",
    "### 🎯 Target Output:\n",
    "Purchased (1 = Made a purchase, 0 = Did not purchase)"
   ]
  },
  {
   "cell_type": "code",
   "execution_count": 1,
   "id": "532001f1",
   "metadata": {},
   "outputs": [],
   "source": [
    "import pandas as pd\n",
    "import numpy as np\n",
    "import matplotlib.pyplot as plt\n",
    "import seaborn as sns"
   ]
  },
  {
   "cell_type": "markdown",
   "id": "ec32da96",
   "metadata": {},
   "source": [
    "## **1. Loading data**"
   ]
  },
  {
   "cell_type": "code",
   "execution_count": 2,
   "id": "bdeaac69",
   "metadata": {},
   "outputs": [
    {
     "data": {
      "application/vnd.microsoft.datawrangler.viewer.v0+json": {
       "columns": [
        {
         "name": "User ID",
         "rawType": "int64",
         "type": "integer"
        },
        {
         "name": "Gender",
         "rawType": "object",
         "type": "string"
        },
        {
         "name": "Age",
         "rawType": "int64",
         "type": "integer"
        },
        {
         "name": "EstimatedSalary",
         "rawType": "int64",
         "type": "integer"
        },
        {
         "name": "Purchased",
         "rawType": "int64",
         "type": "integer"
        }
       ],
       "ref": "67933d1c-9afa-4027-83c5-906fce5bbec2",
       "rows": [
        [
         "15624510",
         "Male",
         "19",
         "19000",
         "0"
        ],
        [
         "15810944",
         "Male",
         "35",
         "20000",
         "0"
        ],
        [
         "15668575",
         "Female",
         "26",
         "43000",
         "0"
        ],
        [
         "15603246",
         "Female",
         "27",
         "57000",
         "0"
        ],
        [
         "15804002",
         "Male",
         "19",
         "76000",
         "0"
        ],
        [
         "15728773",
         "Male",
         "27",
         "58000",
         "0"
        ],
        [
         "15598044",
         "Female",
         "27",
         "84000",
         "0"
        ],
        [
         "15694829",
         "Female",
         "32",
         "150000",
         "1"
        ],
        [
         "15600575",
         "Male",
         "25",
         "33000",
         "0"
        ],
        [
         "15727311",
         "Female",
         "35",
         "65000",
         "0"
        ],
        [
         "15570769",
         "Female",
         "26",
         "80000",
         "0"
        ],
        [
         "15606274",
         "Female",
         "26",
         "52000",
         "0"
        ],
        [
         "15746139",
         "Male",
         "20",
         "86000",
         "0"
        ],
        [
         "15704987",
         "Male",
         "32",
         "18000",
         "0"
        ],
        [
         "15628972",
         "Male",
         "18",
         "82000",
         "0"
        ],
        [
         "15697686",
         "Male",
         "29",
         "80000",
         "0"
        ],
        [
         "15733883",
         "Male",
         "47",
         "25000",
         "1"
        ],
        [
         "15617482",
         "Male",
         "45",
         "26000",
         "1"
        ],
        [
         "15704583",
         "Male",
         "46",
         "28000",
         "1"
        ],
        [
         "15621083",
         "Female",
         "48",
         "29000",
         "1"
        ],
        [
         "15649487",
         "Male",
         "45",
         "22000",
         "1"
        ],
        [
         "15736760",
         "Female",
         "47",
         "49000",
         "1"
        ],
        [
         "15714658",
         "Male",
         "48",
         "41000",
         "1"
        ],
        [
         "15599081",
         "Female",
         "45",
         "22000",
         "1"
        ],
        [
         "15705113",
         "Male",
         "46",
         "23000",
         "1"
        ],
        [
         "15631159",
         "Male",
         "47",
         "20000",
         "1"
        ],
        [
         "15792818",
         "Male",
         "49",
         "28000",
         "1"
        ],
        [
         "15633531",
         "Female",
         "47",
         "30000",
         "1"
        ],
        [
         "15744529",
         "Male",
         "29",
         "43000",
         "0"
        ],
        [
         "15669656",
         "Male",
         "31",
         "18000",
         "0"
        ],
        [
         "15581198",
         "Male",
         "31",
         "74000",
         "0"
        ],
        [
         "15729054",
         "Female",
         "27",
         "137000",
         "1"
        ],
        [
         "15573452",
         "Female",
         "21",
         "16000",
         "0"
        ],
        [
         "15776733",
         "Female",
         "28",
         "44000",
         "0"
        ],
        [
         "15724858",
         "Male",
         "27",
         "90000",
         "0"
        ],
        [
         "15713144",
         "Male",
         "35",
         "27000",
         "0"
        ],
        [
         "15690188",
         "Female",
         "33",
         "28000",
         "0"
        ],
        [
         "15689425",
         "Male",
         "30",
         "49000",
         "0"
        ],
        [
         "15671766",
         "Female",
         "26",
         "72000",
         "0"
        ],
        [
         "15782806",
         "Female",
         "27",
         "31000",
         "0"
        ],
        [
         "15764419",
         "Female",
         "27",
         "17000",
         "0"
        ],
        [
         "15591915",
         "Female",
         "33",
         "51000",
         "0"
        ],
        [
         "15772798",
         "Male",
         "35",
         "108000",
         "0"
        ],
        [
         "15792008",
         "Male",
         "30",
         "15000",
         "0"
        ],
        [
         "15715541",
         "Female",
         "28",
         "84000",
         "0"
        ],
        [
         "15639277",
         "Male",
         "23",
         "20000",
         "0"
        ],
        [
         "15798850",
         "Male",
         "25",
         "79000",
         "0"
        ],
        [
         "15776348",
         "Female",
         "27",
         "54000",
         "0"
        ],
        [
         "15727696",
         "Male",
         "30",
         "135000",
         "1"
        ],
        [
         "15793813",
         "Female",
         "31",
         "89000",
         "0"
        ]
       ],
       "shape": {
        "columns": 4,
        "rows": 400
       }
      },
      "text/html": [
       "<div>\n",
       "<style scoped>\n",
       "    .dataframe tbody tr th:only-of-type {\n",
       "        vertical-align: middle;\n",
       "    }\n",
       "\n",
       "    .dataframe tbody tr th {\n",
       "        vertical-align: top;\n",
       "    }\n",
       "\n",
       "    .dataframe thead th {\n",
       "        text-align: right;\n",
       "    }\n",
       "</style>\n",
       "<table border=\"1\" class=\"dataframe\">\n",
       "  <thead>\n",
       "    <tr style=\"text-align: right;\">\n",
       "      <th></th>\n",
       "      <th>Gender</th>\n",
       "      <th>Age</th>\n",
       "      <th>EstimatedSalary</th>\n",
       "      <th>Purchased</th>\n",
       "    </tr>\n",
       "    <tr>\n",
       "      <th>User ID</th>\n",
       "      <th></th>\n",
       "      <th></th>\n",
       "      <th></th>\n",
       "      <th></th>\n",
       "    </tr>\n",
       "  </thead>\n",
       "  <tbody>\n",
       "    <tr>\n",
       "      <th>15624510</th>\n",
       "      <td>Male</td>\n",
       "      <td>19</td>\n",
       "      <td>19000</td>\n",
       "      <td>0</td>\n",
       "    </tr>\n",
       "    <tr>\n",
       "      <th>15810944</th>\n",
       "      <td>Male</td>\n",
       "      <td>35</td>\n",
       "      <td>20000</td>\n",
       "      <td>0</td>\n",
       "    </tr>\n",
       "    <tr>\n",
       "      <th>15668575</th>\n",
       "      <td>Female</td>\n",
       "      <td>26</td>\n",
       "      <td>43000</td>\n",
       "      <td>0</td>\n",
       "    </tr>\n",
       "    <tr>\n",
       "      <th>15603246</th>\n",
       "      <td>Female</td>\n",
       "      <td>27</td>\n",
       "      <td>57000</td>\n",
       "      <td>0</td>\n",
       "    </tr>\n",
       "    <tr>\n",
       "      <th>15804002</th>\n",
       "      <td>Male</td>\n",
       "      <td>19</td>\n",
       "      <td>76000</td>\n",
       "      <td>0</td>\n",
       "    </tr>\n",
       "    <tr>\n",
       "      <th>...</th>\n",
       "      <td>...</td>\n",
       "      <td>...</td>\n",
       "      <td>...</td>\n",
       "      <td>...</td>\n",
       "    </tr>\n",
       "    <tr>\n",
       "      <th>15691863</th>\n",
       "      <td>Female</td>\n",
       "      <td>46</td>\n",
       "      <td>41000</td>\n",
       "      <td>1</td>\n",
       "    </tr>\n",
       "    <tr>\n",
       "      <th>15706071</th>\n",
       "      <td>Male</td>\n",
       "      <td>51</td>\n",
       "      <td>23000</td>\n",
       "      <td>1</td>\n",
       "    </tr>\n",
       "    <tr>\n",
       "      <th>15654296</th>\n",
       "      <td>Female</td>\n",
       "      <td>50</td>\n",
       "      <td>20000</td>\n",
       "      <td>1</td>\n",
       "    </tr>\n",
       "    <tr>\n",
       "      <th>15755018</th>\n",
       "      <td>Male</td>\n",
       "      <td>36</td>\n",
       "      <td>33000</td>\n",
       "      <td>0</td>\n",
       "    </tr>\n",
       "    <tr>\n",
       "      <th>15594041</th>\n",
       "      <td>Female</td>\n",
       "      <td>49</td>\n",
       "      <td>36000</td>\n",
       "      <td>1</td>\n",
       "    </tr>\n",
       "  </tbody>\n",
       "</table>\n",
       "<p>400 rows × 4 columns</p>\n",
       "</div>"
      ],
      "text/plain": [
       "          Gender  Age  EstimatedSalary  Purchased\n",
       "User ID                                          \n",
       "15624510    Male   19            19000          0\n",
       "15810944    Male   35            20000          0\n",
       "15668575  Female   26            43000          0\n",
       "15603246  Female   27            57000          0\n",
       "15804002    Male   19            76000          0\n",
       "...          ...  ...              ...        ...\n",
       "15691863  Female   46            41000          1\n",
       "15706071    Male   51            23000          1\n",
       "15654296  Female   50            20000          1\n",
       "15755018    Male   36            33000          0\n",
       "15594041  Female   49            36000          1\n",
       "\n",
       "[400 rows x 4 columns]"
      ]
     },
     "execution_count": 2,
     "metadata": {},
     "output_type": "execute_result"
    }
   ],
   "source": [
    "df = pd.read_csv('../data/demo1_LogR.csv',index_col='User ID')\n",
    "df"
   ]
  },
  {
   "cell_type": "code",
   "execution_count": 3,
   "id": "433fe8bd",
   "metadata": {},
   "outputs": [
    {
     "data": {
      "text/plain": [
       "Index(['Gender', 'Age', 'EstimatedSalary', 'Purchased'], dtype='object')"
      ]
     },
     "execution_count": 3,
     "metadata": {},
     "output_type": "execute_result"
    }
   ],
   "source": [
    "df.columns"
   ]
  },
  {
   "cell_type": "markdown",
   "id": "4b961608",
   "metadata": {},
   "source": [
    "## **2. Feature Classification**"
   ]
  },
  {
   "cell_type": "code",
   "execution_count": 4,
   "id": "0bdcb669",
   "metadata": {},
   "outputs": [
    {
     "name": "stdout",
     "output_type": "stream",
     "text": [
      "<class 'pandas.core.frame.DataFrame'>\n",
      "Index: 400 entries, 15624510 to 15594041\n",
      "Data columns (total 4 columns):\n",
      " #   Column           Non-Null Count  Dtype \n",
      "---  ------           --------------  ----- \n",
      " 0   Gender           400 non-null    object\n",
      " 1   Age              400 non-null    int64 \n",
      " 2   EstimatedSalary  400 non-null    int64 \n",
      " 3   Purchased        400 non-null    int64 \n",
      "dtypes: int64(3), object(1)\n",
      "memory usage: 15.6+ KB\n"
     ]
    }
   ],
   "source": [
    "df.info()"
   ]
  },
  {
   "cell_type": "code",
   "execution_count": 5,
   "id": "b9cc95c8",
   "metadata": {},
   "outputs": [],
   "source": [
    "numerical = ['Age','EstimatedSalary']\n",
    "categorical = ['Gender']"
   ]
  },
  {
   "cell_type": "code",
   "execution_count": 6,
   "id": "abb42218",
   "metadata": {},
   "outputs": [
    {
     "name": "stdout",
     "output_type": "stream",
     "text": [
      "<class 'pandas.core.frame.DataFrame'>\n",
      "Index: 400 entries, 15624510 to 15594041\n",
      "Data columns (total 4 columns):\n",
      " #   Column           Non-Null Count  Dtype   \n",
      "---  ------           --------------  -----   \n",
      " 0   Gender           400 non-null    category\n",
      " 1   Age              400 non-null    int64   \n",
      " 2   EstimatedSalary  400 non-null    int64   \n",
      " 3   Purchased        400 non-null    int64   \n",
      "dtypes: category(1), int64(3)\n",
      "memory usage: 13.0 KB\n"
     ]
    }
   ],
   "source": [
    "df['Gender'] = df['Gender'].astype('category')\n",
    "df.info()"
   ]
  },
  {
   "cell_type": "code",
   "execution_count": 7,
   "id": "76ba8b9a",
   "metadata": {},
   "outputs": [
    {
     "data": {
      "application/vnd.microsoft.datawrangler.viewer.v0+json": {
       "columns": [
        {
         "name": "index",
         "rawType": "object",
         "type": "string"
        },
        {
         "name": "Age",
         "rawType": "float64",
         "type": "float"
        },
        {
         "name": "EstimatedSalary",
         "rawType": "float64",
         "type": "float"
        },
        {
         "name": "Purchased",
         "rawType": "float64",
         "type": "float"
        }
       ],
       "ref": "252b805f-7328-4d8c-9c61-4600cd18966c",
       "rows": [
        [
         "count",
         "400.0",
         "400.0",
         "400.0"
        ],
        [
         "mean",
         "37.655",
         "69742.5",
         "0.3575"
        ],
        [
         "std",
         "10.482876597307914",
         "34096.960282424785",
         "0.479863963596869"
        ],
        [
         "min",
         "18.0",
         "15000.0",
         "0.0"
        ],
        [
         "25%",
         "29.75",
         "43000.0",
         "0.0"
        ],
        [
         "50%",
         "37.0",
         "70000.0",
         "0.0"
        ],
        [
         "75%",
         "46.0",
         "88000.0",
         "1.0"
        ],
        [
         "max",
         "60.0",
         "150000.0",
         "1.0"
        ]
       ],
       "shape": {
        "columns": 3,
        "rows": 8
       }
      },
      "text/html": [
       "<div>\n",
       "<style scoped>\n",
       "    .dataframe tbody tr th:only-of-type {\n",
       "        vertical-align: middle;\n",
       "    }\n",
       "\n",
       "    .dataframe tbody tr th {\n",
       "        vertical-align: top;\n",
       "    }\n",
       "\n",
       "    .dataframe thead th {\n",
       "        text-align: right;\n",
       "    }\n",
       "</style>\n",
       "<table border=\"1\" class=\"dataframe\">\n",
       "  <thead>\n",
       "    <tr style=\"text-align: right;\">\n",
       "      <th></th>\n",
       "      <th>Age</th>\n",
       "      <th>EstimatedSalary</th>\n",
       "      <th>Purchased</th>\n",
       "    </tr>\n",
       "  </thead>\n",
       "  <tbody>\n",
       "    <tr>\n",
       "      <th>count</th>\n",
       "      <td>400.000000</td>\n",
       "      <td>400.000000</td>\n",
       "      <td>400.000000</td>\n",
       "    </tr>\n",
       "    <tr>\n",
       "      <th>mean</th>\n",
       "      <td>37.655000</td>\n",
       "      <td>69742.500000</td>\n",
       "      <td>0.357500</td>\n",
       "    </tr>\n",
       "    <tr>\n",
       "      <th>std</th>\n",
       "      <td>10.482877</td>\n",
       "      <td>34096.960282</td>\n",
       "      <td>0.479864</td>\n",
       "    </tr>\n",
       "    <tr>\n",
       "      <th>min</th>\n",
       "      <td>18.000000</td>\n",
       "      <td>15000.000000</td>\n",
       "      <td>0.000000</td>\n",
       "    </tr>\n",
       "    <tr>\n",
       "      <th>25%</th>\n",
       "      <td>29.750000</td>\n",
       "      <td>43000.000000</td>\n",
       "      <td>0.000000</td>\n",
       "    </tr>\n",
       "    <tr>\n",
       "      <th>50%</th>\n",
       "      <td>37.000000</td>\n",
       "      <td>70000.000000</td>\n",
       "      <td>0.000000</td>\n",
       "    </tr>\n",
       "    <tr>\n",
       "      <th>75%</th>\n",
       "      <td>46.000000</td>\n",
       "      <td>88000.000000</td>\n",
       "      <td>1.000000</td>\n",
       "    </tr>\n",
       "    <tr>\n",
       "      <th>max</th>\n",
       "      <td>60.000000</td>\n",
       "      <td>150000.000000</td>\n",
       "      <td>1.000000</td>\n",
       "    </tr>\n",
       "  </tbody>\n",
       "</table>\n",
       "</div>"
      ],
      "text/plain": [
       "              Age  EstimatedSalary   Purchased\n",
       "count  400.000000       400.000000  400.000000\n",
       "mean    37.655000     69742.500000    0.357500\n",
       "std     10.482877     34096.960282    0.479864\n",
       "min     18.000000     15000.000000    0.000000\n",
       "25%     29.750000     43000.000000    0.000000\n",
       "50%     37.000000     70000.000000    0.000000\n",
       "75%     46.000000     88000.000000    1.000000\n",
       "max     60.000000    150000.000000    1.000000"
      ]
     },
     "execution_count": 7,
     "metadata": {},
     "output_type": "execute_result"
    }
   ],
   "source": [
    "df.describe()"
   ]
  },
  {
   "cell_type": "code",
   "execution_count": 8,
   "id": "443ccf08",
   "metadata": {},
   "outputs": [
    {
     "data": {
      "application/vnd.microsoft.datawrangler.viewer.v0+json": {
       "columns": [
        {
         "name": "index",
         "rawType": "object",
         "type": "string"
        },
        {
         "name": "Gender",
         "rawType": "object",
         "type": "unknown"
        }
       ],
       "ref": "c06354d1-11b5-4b0b-9b9a-f9fdb2b7b1e7",
       "rows": [
        [
         "count",
         "400"
        ],
        [
         "unique",
         "2"
        ],
        [
         "top",
         "Female"
        ],
        [
         "freq",
         "204"
        ]
       ],
       "shape": {
        "columns": 1,
        "rows": 4
       }
      },
      "text/html": [
       "<div>\n",
       "<style scoped>\n",
       "    .dataframe tbody tr th:only-of-type {\n",
       "        vertical-align: middle;\n",
       "    }\n",
       "\n",
       "    .dataframe tbody tr th {\n",
       "        vertical-align: top;\n",
       "    }\n",
       "\n",
       "    .dataframe thead th {\n",
       "        text-align: right;\n",
       "    }\n",
       "</style>\n",
       "<table border=\"1\" class=\"dataframe\">\n",
       "  <thead>\n",
       "    <tr style=\"text-align: right;\">\n",
       "      <th></th>\n",
       "      <th>Gender</th>\n",
       "    </tr>\n",
       "  </thead>\n",
       "  <tbody>\n",
       "    <tr>\n",
       "      <th>count</th>\n",
       "      <td>400</td>\n",
       "    </tr>\n",
       "    <tr>\n",
       "      <th>unique</th>\n",
       "      <td>2</td>\n",
       "    </tr>\n",
       "    <tr>\n",
       "      <th>top</th>\n",
       "      <td>Female</td>\n",
       "    </tr>\n",
       "    <tr>\n",
       "      <th>freq</th>\n",
       "      <td>204</td>\n",
       "    </tr>\n",
       "  </tbody>\n",
       "</table>\n",
       "</div>"
      ],
      "text/plain": [
       "        Gender\n",
       "count      400\n",
       "unique       2\n",
       "top     Female\n",
       "freq       204"
      ]
     },
     "execution_count": 8,
     "metadata": {},
     "output_type": "execute_result"
    }
   ],
   "source": [
    "df.describe(include='category')"
   ]
  },
  {
   "cell_type": "markdown",
   "id": "f65ef4b5",
   "metadata": {},
   "source": [
    "## **3. Exploratory Data Analysis (EDA)**"
   ]
  },
  {
   "cell_type": "code",
   "execution_count": 9,
   "id": "2b39f0f6",
   "metadata": {},
   "outputs": [
    {
     "data": {
      "application/vnd.microsoft.datawrangler.viewer.v0+json": {
       "columns": [
        {
         "name": "Purchased",
         "rawType": "int64",
         "type": "integer"
        },
        {
         "name": "count",
         "rawType": "int64",
         "type": "integer"
        }
       ],
       "ref": "57dce7c1-04f3-46c5-92ce-7f8b58a437e4",
       "rows": [
        [
         "0",
         "257"
        ],
        [
         "1",
         "143"
        ]
       ],
       "shape": {
        "columns": 1,
        "rows": 2
       }
      },
      "text/plain": [
       "Purchased\n",
       "0    257\n",
       "1    143\n",
       "Name: count, dtype: int64"
      ]
     },
     "execution_count": 9,
     "metadata": {},
     "output_type": "execute_result"
    }
   ],
   "source": [
    "df['Purchased'].value_counts()"
   ]
  },
  {
   "cell_type": "code",
   "execution_count": 10,
   "id": "d0baa1d7",
   "metadata": {},
   "outputs": [
    {
     "data": {
      "application/vnd.microsoft.datawrangler.viewer.v0+json": {
       "columns": [
        {
         "name": "Age",
         "rawType": "int64",
         "type": "integer"
        },
        {
         "name": "count",
         "rawType": "int64",
         "type": "integer"
        }
       ],
       "ref": "8e3bc153-d96f-4341-809c-80b412adc268",
       "rows": [
        [
         "35",
         "32"
        ],
        [
         "37",
         "20"
        ],
        [
         "26",
         "16"
        ],
        [
         "42",
         "16"
        ],
        [
         "41",
         "16"
        ],
        [
         "39",
         "15"
        ],
        [
         "40",
         "15"
        ],
        [
         "48",
         "14"
        ],
        [
         "47",
         "14"
        ],
        [
         "27",
         "13"
        ],
        [
         "38",
         "13"
        ],
        [
         "36",
         "12"
        ],
        [
         "46",
         "12"
        ],
        [
         "28",
         "12"
        ],
        [
         "30",
         "11"
        ],
        [
         "31",
         "11"
        ],
        [
         "49",
         "10"
        ],
        [
         "29",
         "10"
        ],
        [
         "32",
         "9"
        ],
        [
         "24",
         "9"
        ],
        [
         "33",
         "9"
        ],
        [
         "60",
         "7"
        ],
        [
         "45",
         "7"
        ],
        [
         "19",
         "7"
        ],
        [
         "59",
         "7"
        ],
        [
         "20",
         "7"
        ],
        [
         "25",
         "6"
        ],
        [
         "52",
         "6"
        ],
        [
         "58",
         "6"
        ],
        [
         "23",
         "6"
        ],
        [
         "34",
         "6"
        ],
        [
         "18",
         "5"
        ],
        [
         "22",
         "5"
        ],
        [
         "57",
         "5"
        ],
        [
         "53",
         "5"
        ],
        [
         "21",
         "4"
        ],
        [
         "54",
         "4"
        ],
        [
         "50",
         "4"
        ],
        [
         "55",
         "3"
        ],
        [
         "51",
         "3"
        ],
        [
         "56",
         "3"
        ],
        [
         "43",
         "3"
        ],
        [
         "44",
         "2"
        ]
       ],
       "shape": {
        "columns": 1,
        "rows": 43
       }
      },
      "text/plain": [
       "Age\n",
       "35    32\n",
       "37    20\n",
       "26    16\n",
       "42    16\n",
       "41    16\n",
       "39    15\n",
       "40    15\n",
       "48    14\n",
       "47    14\n",
       "27    13\n",
       "38    13\n",
       "36    12\n",
       "46    12\n",
       "28    12\n",
       "30    11\n",
       "31    11\n",
       "49    10\n",
       "29    10\n",
       "32     9\n",
       "24     9\n",
       "33     9\n",
       "60     7\n",
       "45     7\n",
       "19     7\n",
       "59     7\n",
       "20     7\n",
       "25     6\n",
       "52     6\n",
       "58     6\n",
       "23     6\n",
       "34     6\n",
       "18     5\n",
       "22     5\n",
       "57     5\n",
       "53     5\n",
       "21     4\n",
       "54     4\n",
       "50     4\n",
       "55     3\n",
       "51     3\n",
       "56     3\n",
       "43     3\n",
       "44     2\n",
       "Name: count, dtype: int64"
      ]
     },
     "execution_count": 10,
     "metadata": {},
     "output_type": "execute_result"
    }
   ],
   "source": [
    "df['Age'].value_counts()"
   ]
  },
  {
   "cell_type": "code",
   "execution_count": 11,
   "id": "916ab1f5",
   "metadata": {},
   "outputs": [
    {
     "data": {
      "application/vnd.microsoft.datawrangler.viewer.v0+json": {
       "columns": [
        {
         "name": "Gender",
         "rawType": "category",
         "type": "unknown"
        },
        {
         "name": "count",
         "rawType": "int64",
         "type": "integer"
        }
       ],
       "ref": "a88032b5-5113-49da-95c8-59695391e429",
       "rows": [
        [
         "Female",
         "204"
        ],
        [
         "Male",
         "196"
        ]
       ],
       "shape": {
        "columns": 1,
        "rows": 2
       }
      },
      "text/plain": [
       "Gender\n",
       "Female    204\n",
       "Male      196\n",
       "Name: count, dtype: int64"
      ]
     },
     "execution_count": 11,
     "metadata": {},
     "output_type": "execute_result"
    }
   ],
   "source": [
    "df['Gender'].value_counts()"
   ]
  },
  {
   "cell_type": "code",
   "execution_count": 12,
   "id": "fb796beb",
   "metadata": {},
   "outputs": [
    {
     "data": {
      "application/vnd.microsoft.datawrangler.viewer.v0+json": {
       "columns": [
        {
         "name": "EstimatedSalary",
         "rawType": "int64",
         "type": "integer"
        },
        {
         "name": "count",
         "rawType": "int64",
         "type": "integer"
        }
       ],
       "ref": "23f096ce-b90f-4e1b-9563-02434d422cbc",
       "rows": [
        [
         "72000",
         "12"
        ],
        [
         "80000",
         "11"
        ],
        [
         "79000",
         "10"
        ],
        [
         "75000",
         "9"
        ],
        [
         "71000",
         "9"
        ],
        [
         "59000",
         "8"
        ],
        [
         "74000",
         "7"
        ],
        [
         "43000",
         "7"
        ],
        [
         "60000",
         "7"
        ],
        [
         "88000",
         "7"
        ],
        [
         "55000",
         "7"
        ],
        [
         "23000",
         "7"
        ],
        [
         "52000",
         "6"
        ],
        [
         "89000",
         "6"
        ],
        [
         "61000",
         "6"
        ],
        [
         "50000",
         "6"
        ],
        [
         "82000",
         "6"
        ],
        [
         "28000",
         "6"
        ],
        [
         "57000",
         "6"
        ],
        [
         "33000",
         "6"
        ],
        [
         "65000",
         "6"
        ],
        [
         "47000",
         "5"
        ],
        [
         "90000",
         "5"
        ],
        [
         "32000",
         "5"
        ],
        [
         "20000",
         "5"
        ],
        [
         "22000",
         "5"
        ],
        [
         "86000",
         "5"
        ],
        [
         "58000",
         "5"
        ],
        [
         "42000",
         "5"
        ],
        [
         "87000",
         "4"
        ],
        [
         "54000",
         "4"
        ],
        [
         "63000",
         "4"
        ],
        [
         "83000",
         "4"
        ],
        [
         "15000",
         "4"
        ],
        [
         "26000",
         "4"
        ],
        [
         "18000",
         "4"
        ],
        [
         "25000",
         "4"
        ],
        [
         "84000",
         "4"
        ],
        [
         "134000",
         "4"
        ],
        [
         "104000",
         "4"
        ],
        [
         "144000",
         "4"
        ],
        [
         "39000",
         "4"
        ],
        [
         "70000",
         "4"
        ],
        [
         "34000",
         "4"
        ],
        [
         "96000",
         "4"
        ],
        [
         "51000",
         "4"
        ],
        [
         "108000",
         "4"
        ],
        [
         "44000",
         "4"
        ],
        [
         "30000",
         "4"
        ],
        [
         "68000",
         "3"
        ]
       ],
       "shape": {
        "columns": 1,
        "rows": 117
       }
      },
      "text/plain": [
       "EstimatedSalary\n",
       "72000     12\n",
       "80000     11\n",
       "79000     10\n",
       "75000      9\n",
       "71000      9\n",
       "          ..\n",
       "99000      1\n",
       "129000     1\n",
       "46000      1\n",
       "64000      1\n",
       "139000     1\n",
       "Name: count, Length: 117, dtype: int64"
      ]
     },
     "execution_count": 12,
     "metadata": {},
     "output_type": "execute_result"
    }
   ],
   "source": [
    "df['EstimatedSalary'].value_counts()"
   ]
  },
  {
   "cell_type": "code",
   "execution_count": 13,
   "id": "a2a8fe0e",
   "metadata": {},
   "outputs": [
    {
     "data": {
      "image/png": "[encoded data removed]",
      "text/plain": [
       "<Figure size 1600x400 with 3 Axes>"
      ]
     },
     "metadata": {},
     "output_type": "display_data"
    }
   ],
   "source": [
    "fig, ax = plt.subplots(nrows=1,ncols=3,figsize=(16,4))\n",
    "sns.countplot(data=df,x='Gender',hue='Purchased',ax=ax[0],palette=[\"#448DF3\",\"#FFA865\"])\n",
    "sns.histplot(data=df,x='Age',hue='Purchased',bins=30,ax=ax[1],kde=True,palette=[\"#448DF3\",\"#FFA865\"])\n",
    "sns.histplot(data=df,x='EstimatedSalary',bins=30,hue='Purchased',ax=ax[2],kde=True,palette=[\"#448DF3\",\"#FFA865\"])\n",
    "plt.tight_layout()\n",
    "plt.show()"
   ]
  },
  {
   "cell_type": "markdown",
   "id": "9fbefb28",
   "metadata": {},
   "source": [
    "## **4. Feature Engineering & Data Wrangling** "
   ]
  },
  {
   "cell_type": "code",
   "execution_count": 14,
   "id": "fa4783d5",
   "metadata": {},
   "outputs": [
    {
     "data": {
      "application/vnd.microsoft.datawrangler.viewer.v0+json": {
       "columns": [
        {
         "name": "index",
         "rawType": "object",
         "type": "string"
        },
        {
         "name": "0",
         "rawType": "int64",
         "type": "integer"
        }
       ],
       "ref": "035ffa69-718e-4d60-8004-5c5939a988d4",
       "rows": [
        [
         "Gender",
         "0"
        ],
        [
         "Age",
         "0"
        ],
        [
         "EstimatedSalary",
         "0"
        ],
        [
         "Purchased",
         "0"
        ]
       ],
       "shape": {
        "columns": 1,
        "rows": 4
       }
      },
      "text/plain": [
       "Gender             0\n",
       "Age                0\n",
       "EstimatedSalary    0\n",
       "Purchased          0\n",
       "dtype: int64"
      ]
     },
     "execution_count": 14,
     "metadata": {},
     "output_type": "execute_result"
    }
   ],
   "source": [
    "df.isnull().sum()"
   ]
  },
  {
   "cell_type": "code",
   "execution_count": 15,
   "id": "aefab89e",
   "metadata": {},
   "outputs": [
    {
     "data": {
      "application/vnd.microsoft.datawrangler.viewer.v0+json": {
       "columns": [
        {
         "name": "User ID",
         "rawType": "int64",
         "type": "integer"
        },
        {
         "name": "Age",
         "rawType": "int64",
         "type": "integer"
        },
        {
         "name": "EstimatedSalary",
         "rawType": "int64",
         "type": "integer"
        },
        {
         "name": "Purchased",
         "rawType": "int64",
         "type": "integer"
        },
        {
         "name": "Gender_Male",
         "rawType": "bool",
         "type": "boolean"
        }
       ],
       "ref": "909753ca-c2fd-41a5-a1e4-c3bfe1765c71",
       "rows": [
        [
         "15624510",
         "19",
         "19000",
         "0",
         "True"
        ],
        [
         "15810944",
         "35",
         "20000",
         "0",
         "True"
        ],
        [
         "15668575",
         "26",
         "43000",
         "0",
         "False"
        ],
        [
         "15603246",
         "27",
         "57000",
         "0",
         "False"
        ],
        [
         "15804002",
         "19",
         "76000",
         "0",
         "True"
        ],
        [
         "15728773",
         "27",
         "58000",
         "0",
         "True"
        ],
        [
         "15598044",
         "27",
         "84000",
         "0",
         "False"
        ],
        [
         "15694829",
         "32",
         "150000",
         "1",
         "False"
        ],
        [
         "15600575",
         "25",
         "33000",
         "0",
         "True"
        ],
        [
         "15727311",
         "35",
         "65000",
         "0",
         "False"
        ],
        [
         "15570769",
         "26",
         "80000",
         "0",
         "False"
        ],
        [
         "15606274",
         "26",
         "52000",
         "0",
         "False"
        ],
        [
         "15746139",
         "20",
         "86000",
         "0",
         "True"
        ],
        [
         "15704987",
         "32",
         "18000",
         "0",
         "True"
        ],
        [
         "15628972",
         "18",
         "82000",
         "0",
         "True"
        ],
        [
         "15697686",
         "29",
         "80000",
         "0",
         "True"
        ],
        [
         "15733883",
         "47",
         "25000",
         "1",
         "True"
        ],
        [
         "15617482",
         "45",
         "26000",
         "1",
         "True"
        ],
        [
         "15704583",
         "46",
         "28000",
         "1",
         "True"
        ],
        [
         "15621083",
         "48",
         "29000",
         "1",
         "False"
        ],
        [
         "15649487",
         "45",
         "22000",
         "1",
         "True"
        ],
        [
         "15736760",
         "47",
         "49000",
         "1",
         "False"
        ],
        [
         "15714658",
         "48",
         "41000",
         "1",
         "True"
        ],
        [
         "15599081",
         "45",
         "22000",
         "1",
         "False"
        ],
        [
         "15705113",
         "46",
         "23000",
         "1",
         "True"
        ],
        [
         "15631159",
         "47",
         "20000",
         "1",
         "True"
        ],
        [
         "15792818",
         "49",
         "28000",
         "1",
         "True"
        ],
        [
         "15633531",
         "47",
         "30000",
         "1",
         "False"
        ],
        [
         "15744529",
         "29",
         "43000",
         "0",
         "True"
        ],
        [
         "15669656",
         "31",
         "18000",
         "0",
         "True"
        ],
        [
         "15581198",
         "31",
         "74000",
         "0",
         "True"
        ],
        [
         "15729054",
         "27",
         "137000",
         "1",
         "False"
        ],
        [
         "15573452",
         "21",
         "16000",
         "0",
         "False"
        ],
        [
         "15776733",
         "28",
         "44000",
         "0",
         "False"
        ],
        [
         "15724858",
         "27",
         "90000",
         "0",
         "True"
        ],
        [
         "15713144",
         "35",
         "27000",
         "0",
         "True"
        ],
        [
         "15690188",
         "33",
         "28000",
         "0",
         "False"
        ],
        [
         "15689425",
         "30",
         "49000",
         "0",
         "True"
        ],
        [
         "15671766",
         "26",
         "72000",
         "0",
         "False"
        ],
        [
         "15782806",
         "27",
         "31000",
         "0",
         "False"
        ],
        [
         "15764419",
         "27",
         "17000",
         "0",
         "False"
        ],
        [
         "15591915",
         "33",
         "51000",
         "0",
         "False"
        ],
        [
         "15772798",
         "35",
         "108000",
         "0",
         "True"
        ],
        [
         "15792008",
         "30",
         "15000",
         "0",
         "True"
        ],
        [
         "15715541",
         "28",
         "84000",
         "0",
         "False"
        ],
        [
         "15639277",
         "23",
         "20000",
         "0",
         "True"
        ],
        [
         "15798850",
         "25",
         "79000",
         "0",
         "True"
        ],
        [
         "15776348",
         "27",
         "54000",
         "0",
         "False"
        ],
        [
         "15727696",
         "30",
         "135000",
         "1",
         "True"
        ],
        [
         "15793813",
         "31",
         "89000",
         "0",
         "False"
        ]
       ],
       "shape": {
        "columns": 4,
        "rows": 400
       }
      },
      "text/html": [
       "<div>\n",
       "<style scoped>\n",
       "    .dataframe tbody tr th:only-of-type {\n",
       "        vertical-align: middle;\n",
       "    }\n",
       "\n",
       "    .dataframe tbody tr th {\n",
       "        vertical-align: top;\n",
       "    }\n",
       "\n",
       "    .dataframe thead th {\n",
       "        text-align: right;\n",
       "    }\n",
       "</style>\n",
       "<table border=\"1\" class=\"dataframe\">\n",
       "  <thead>\n",
       "    <tr style=\"text-align: right;\">\n",
       "      <th></th>\n",
       "      <th>Age</th>\n",
       "      <th>EstimatedSalary</th>\n",
       "      <th>Purchased</th>\n",
       "      <th>Gender_Male</th>\n",
       "    </tr>\n",
       "    <tr>\n",
       "      <th>User ID</th>\n",
       "      <th></th>\n",
       "      <th></th>\n",
       "      <th></th>\n",
       "      <th></th>\n",
       "    </tr>\n",
       "  </thead>\n",
       "  <tbody>\n",
       "    <tr>\n",
       "      <th>15624510</th>\n",
       "      <td>19</td>\n",
       "      <td>19000</td>\n",
       "      <td>0</td>\n",
       "      <td>True</td>\n",
       "    </tr>\n",
       "    <tr>\n",
       "      <th>15810944</th>\n",
       "      <td>35</td>\n",
       "      <td>20000</td>\n",
       "      <td>0</td>\n",
       "      <td>True</td>\n",
       "    </tr>\n",
       "    <tr>\n",
       "      <th>15668575</th>\n",
       "      <td>26</td>\n",
       "      <td>43000</td>\n",
       "      <td>0</td>\n",
       "      <td>False</td>\n",
       "    </tr>\n",
       "    <tr>\n",
       "      <th>15603246</th>\n",
       "      <td>27</td>\n",
       "      <td>57000</td>\n",
       "      <td>0</td>\n",
       "      <td>False</td>\n",
       "    </tr>\n",
       "    <tr>\n",
       "      <th>15804002</th>\n",
       "      <td>19</td>\n",
       "      <td>76000</td>\n",
       "      <td>0</td>\n",
       "      <td>True</td>\n",
       "    </tr>\n",
       "    <tr>\n",
       "      <th>...</th>\n",
       "      <td>...</td>\n",
       "      <td>...</td>\n",
       "      <td>...</td>\n",
       "      <td>...</td>\n",
       "    </tr>\n",
       "    <tr>\n",
       "      <th>15691863</th>\n",
       "      <td>46</td>\n",
       "      <td>41000</td>\n",
       "      <td>1</td>\n",
       "      <td>False</td>\n",
       "    </tr>\n",
       "    <tr>\n",
       "      <th>15706071</th>\n",
       "      <td>51</td>\n",
       "      <td>23000</td>\n",
       "      <td>1</td>\n",
       "      <td>True</td>\n",
       "    </tr>\n",
       "    <tr>\n",
       "      <th>15654296</th>\n",
       "      <td>50</td>\n",
       "      <td>20000</td>\n",
       "      <td>1</td>\n",
       "      <td>False</td>\n",
       "    </tr>\n",
       "    <tr>\n",
       "      <th>15755018</th>\n",
       "      <td>36</td>\n",
       "      <td>33000</td>\n",
       "      <td>0</td>\n",
       "      <td>True</td>\n",
       "    </tr>\n",
       "    <tr>\n",
       "      <th>15594041</th>\n",
       "      <td>49</td>\n",
       "      <td>36000</td>\n",
       "      <td>1</td>\n",
       "      <td>False</td>\n",
       "    </tr>\n",
       "  </tbody>\n",
       "</table>\n",
       "<p>400 rows × 4 columns</p>\n",
       "</div>"
      ],
      "text/plain": [
       "          Age  EstimatedSalary  Purchased  Gender_Male\n",
       "User ID                                               \n",
       "15624510   19            19000          0         True\n",
       "15810944   35            20000          0         True\n",
       "15668575   26            43000          0        False\n",
       "15603246   27            57000          0        False\n",
       "15804002   19            76000          0         True\n",
       "...       ...              ...        ...          ...\n",
       "15691863   46            41000          1        False\n",
       "15706071   51            23000          1         True\n",
       "15654296   50            20000          1        False\n",
       "15755018   36            33000          0         True\n",
       "15594041   49            36000          1        False\n",
       "\n",
       "[400 rows x 4 columns]"
      ]
     },
     "execution_count": 15,
     "metadata": {},
     "output_type": "execute_result"
    }
   ],
   "source": [
    "df = pd.get_dummies(df,columns=['Gender'],drop_first=True)\n",
    "df"
   ]
  },
  {
   "cell_type": "markdown",
   "id": "0fa676eb",
   "metadata": {},
   "source": [
    "## **5. Model Training**"
   ]
  },
  {
   "cell_type": "code",
   "execution_count": null,
   "id": "866f71c7",
   "metadata": {},
   "outputs": [],
   "source": [
    "from sklearn.model_selection import train_test_split\n",
    "from sklearn.linear_model import LogisticRegression\n",
    "from sklearn.metrics import accuracy_score, confusion_matrix, classification_report"
   ]
  },
  {
   "cell_type": "code",
   "execution_count": 17,
   "id": "f7d60f19",
   "metadata": {},
   "outputs": [
    {
     "data": {
      "application/vnd.microsoft.datawrangler.viewer.v0+json": {
       "columns": [
        {
         "name": "User ID",
         "rawType": "int64",
         "type": "integer"
        },
        {
         "name": "Age",
         "rawType": "int64",
         "type": "integer"
        },
        {
         "name": "EstimatedSalary",
         "rawType": "int64",
         "type": "integer"
        },
        {
         "name": "Gender_Male",
         "rawType": "bool",
         "type": "boolean"
        }
       ],
       "ref": "7b4486a2-30a0-44e1-b39b-1008fbbd4a45",
       "rows": [
        [
         "15624510",
         "19",
         "19000",
         "True"
        ],
        [
         "15810944",
         "35",
         "20000",
         "True"
        ],
        [
         "15668575",
         "26",
         "43000",
         "False"
        ],
        [
         "15603246",
         "27",
         "57000",
         "False"
        ],
        [
         "15804002",
         "19",
         "76000",
         "True"
        ],
        [
         "15728773",
         "27",
         "58000",
         "True"
        ],
        [
         "15598044",
         "27",
         "84000",
         "False"
        ],
        [
         "15694829",
         "32",
         "150000",
         "False"
        ],
        [
         "15600575",
         "25",
         "33000",
         "True"
        ],
        [
         "15727311",
         "35",
         "65000",
         "False"
        ],
        [
         "15570769",
         "26",
         "80000",
         "False"
        ],
        [
         "15606274",
         "26",
         "52000",
         "False"
        ],
        [
         "15746139",
         "20",
         "86000",
         "True"
        ],
        [
         "15704987",
         "32",
         "18000",
         "True"
        ],
        [
         "15628972",
         "18",
         "82000",
         "True"
        ],
        [
         "15697686",
         "29",
         "80000",
         "True"
        ],
        [
         "15733883",
         "47",
         "25000",
         "True"
        ],
        [
         "15617482",
         "45",
         "26000",
         "True"
        ],
        [
         "15704583",
         "46",
         "28000",
         "True"
        ],
        [
         "15621083",
         "48",
         "29000",
         "False"
        ],
        [
         "15649487",
         "45",
         "22000",
         "True"
        ],
        [
         "15736760",
         "47",
         "49000",
         "False"
        ],
        [
         "15714658",
         "48",
         "41000",
         "True"
        ],
        [
         "15599081",
         "45",
         "22000",
         "False"
        ],
        [
         "15705113",
         "46",
         "23000",
         "True"
        ],
        [
         "15631159",
         "47",
         "20000",
         "True"
        ],
        [
         "15792818",
         "49",
         "28000",
         "True"
        ],
        [
         "15633531",
         "47",
         "30000",
         "False"
        ],
        [
         "15744529",
         "29",
         "43000",
         "True"
        ],
        [
         "15669656",
         "31",
         "18000",
         "True"
        ],
        [
         "15581198",
         "31",
         "74000",
         "True"
        ],
        [
         "15729054",
         "27",
         "137000",
         "False"
        ],
        [
         "15573452",
         "21",
         "16000",
         "False"
        ],
        [
         "15776733",
         "28",
         "44000",
         "False"
        ],
        [
         "15724858",
         "27",
         "90000",
         "True"
        ],
        [
         "15713144",
         "35",
         "27000",
         "True"
        ],
        [
         "15690188",
         "33",
         "28000",
         "False"
        ],
        [
         "15689425",
         "30",
         "49000",
         "True"
        ],
        [
         "15671766",
         "26",
         "72000",
         "False"
        ],
        [
         "15782806",
         "27",
         "31000",
         "False"
        ],
        [
         "15764419",
         "27",
         "17000",
         "False"
        ],
        [
         "15591915",
         "33",
         "51000",
         "False"
        ],
        [
         "15772798",
         "35",
         "108000",
         "True"
        ],
        [
         "15792008",
         "30",
         "15000",
         "True"
        ],
        [
         "15715541",
         "28",
         "84000",
         "False"
        ],
        [
         "15639277",
         "23",
         "20000",
         "True"
        ],
        [
         "15798850",
         "25",
         "79000",
         "True"
        ],
        [
         "15776348",
         "27",
         "54000",
         "False"
        ],
        [
         "15727696",
         "30",
         "135000",
         "True"
        ],
        [
         "15793813",
         "31",
         "89000",
         "False"
        ]
       ],
       "shape": {
        "columns": 3,
        "rows": 400
       }
      },
      "text/html": [
       "<div>\n",
       "<style scoped>\n",
       "    .dataframe tbody tr th:only-of-type {\n",
       "        vertical-align: middle;\n",
       "    }\n",
       "\n",
       "    .dataframe tbody tr th {\n",
       "        vertical-align: top;\n",
       "    }\n",
       "\n",
       "    .dataframe thead th {\n",
       "        text-align: right;\n",
       "    }\n",
       "</style>\n",
       "<table border=\"1\" class=\"dataframe\">\n",
       "  <thead>\n",
       "    <tr style=\"text-align: right;\">\n",
       "      <th></th>\n",
       "      <th>Age</th>\n",
       "      <th>EstimatedSalary</th>\n",
       "      <th>Gender_Male</th>\n",
       "    </tr>\n",
       "    <tr>\n",
       "      <th>User ID</th>\n",
       "      <th></th>\n",
       "      <th></th>\n",
       "      <th></th>\n",
       "    </tr>\n",
       "  </thead>\n",
       "  <tbody>\n",
       "    <tr>\n",
       "      <th>15624510</th>\n",
       "      <td>19</td>\n",
       "      <td>19000</td>\n",
       "      <td>True</td>\n",
       "    </tr>\n",
       "    <tr>\n",
       "      <th>15810944</th>\n",
       "      <td>35</td>\n",
       "      <td>20000</td>\n",
       "      <td>True</td>\n",
       "    </tr>\n",
       "    <tr>\n",
       "      <th>15668575</th>\n",
       "      <td>26</td>\n",
       "      <td>43000</td>\n",
       "      <td>False</td>\n",
       "    </tr>\n",
       "    <tr>\n",
       "      <th>15603246</th>\n",
       "      <td>27</td>\n",
       "      <td>57000</td>\n",
       "      <td>False</td>\n",
       "    </tr>\n",
       "    <tr>\n",
       "      <th>15804002</th>\n",
       "      <td>19</td>\n",
       "      <td>76000</td>\n",
       "      <td>True</td>\n",
       "    </tr>\n",
       "    <tr>\n",
       "      <th>...</th>\n",
       "      <td>...</td>\n",
       "      <td>...</td>\n",
       "      <td>...</td>\n",
       "    </tr>\n",
       "    <tr>\n",
       "      <th>15691863</th>\n",
       "      <td>46</td>\n",
       "      <td>41000</td>\n",
       "      <td>False</td>\n",
       "    </tr>\n",
       "    <tr>\n",
       "      <th>15706071</th>\n",
       "      <td>51</td>\n",
       "      <td>23000</td>\n",
       "      <td>True</td>\n",
       "    </tr>\n",
       "    <tr>\n",
       "      <th>15654296</th>\n",
       "      <td>50</td>\n",
       "      <td>20000</td>\n",
       "      <td>False</td>\n",
       "    </tr>\n",
       "    <tr>\n",
       "      <th>15755018</th>\n",
       "      <td>36</td>\n",
       "      <td>33000</td>\n",
       "      <td>True</td>\n",
       "    </tr>\n",
       "    <tr>\n",
       "      <th>15594041</th>\n",
       "      <td>49</td>\n",
       "      <td>36000</td>\n",
       "      <td>False</td>\n",
       "    </tr>\n",
       "  </tbody>\n",
       "</table>\n",
       "<p>400 rows × 3 columns</p>\n",
       "</div>"
      ],
      "text/plain": [
       "          Age  EstimatedSalary  Gender_Male\n",
       "User ID                                    \n",
       "15624510   19            19000         True\n",
       "15810944   35            20000         True\n",
       "15668575   26            43000        False\n",
       "15603246   27            57000        False\n",
       "15804002   19            76000         True\n",
       "...       ...              ...          ...\n",
       "15691863   46            41000        False\n",
       "15706071   51            23000         True\n",
       "15654296   50            20000        False\n",
       "15755018   36            33000         True\n",
       "15594041   49            36000        False\n",
       "\n",
       "[400 rows x 3 columns]"
      ]
     },
     "execution_count": 17,
     "metadata": {},
     "output_type": "execute_result"
    }
   ],
   "source": [
    "X = df.drop(columns='Purchased')\n",
    "X"
   ]
  },
  {
   "cell_type": "code",
   "execution_count": 18,
   "id": "bdaf653b",
   "metadata": {},
   "outputs": [
    {
     "data": {
      "application/vnd.microsoft.datawrangler.viewer.v0+json": {
       "columns": [
        {
         "name": "User ID",
         "rawType": "int64",
         "type": "integer"
        },
        {
         "name": "Purchased",
         "rawType": "int64",
         "type": "integer"
        }
       ],
       "ref": "dccdee33-d1f0-4f34-947b-d3487433b732",
       "rows": [
        [
         "15624510",
         "0"
        ],
        [
         "15810944",
         "0"
        ],
        [
         "15668575",
         "0"
        ],
        [
         "15603246",
         "0"
        ],
        [
         "15804002",
         "0"
        ],
        [
         "15728773",
         "0"
        ],
        [
         "15598044",
         "0"
        ],
        [
         "15694829",
         "1"
        ],
        [
         "15600575",
         "0"
        ],
        [
         "15727311",
         "0"
        ],
        [
         "15570769",
         "0"
        ],
        [
         "15606274",
         "0"
        ],
        [
         "15746139",
         "0"
        ],
        [
         "15704987",
         "0"
        ],
        [
         "15628972",
         "0"
        ],
        [
         "15697686",
         "0"
        ],
        [
         "15733883",
         "1"
        ],
        [
         "15617482",
         "1"
        ],
        [
         "15704583",
         "1"
        ],
        [
         "15621083",
         "1"
        ],
        [
         "15649487",
         "1"
        ],
        [
         "15736760",
         "1"
        ],
        [
         "15714658",
         "1"
        ],
        [
         "15599081",
         "1"
        ],
        [
         "15705113",
         "1"
        ],
        [
         "15631159",
         "1"
        ],
        [
         "15792818",
         "1"
        ],
        [
         "15633531",
         "1"
        ],
        [
         "15744529",
         "0"
        ],
        [
         "15669656",
         "0"
        ],
        [
         "15581198",
         "0"
        ],
        [
         "15729054",
         "1"
        ],
        [
         "15573452",
         "0"
        ],
        [
         "15776733",
         "0"
        ],
        [
         "15724858",
         "0"
        ],
        [
         "15713144",
         "0"
        ],
        [
         "15690188",
         "0"
        ],
        [
         "15689425",
         "0"
        ],
        [
         "15671766",
         "0"
        ],
        [
         "15782806",
         "0"
        ],
        [
         "15764419",
         "0"
        ],
        [
         "15591915",
         "0"
        ],
        [
         "15772798",
         "0"
        ],
        [
         "15792008",
         "0"
        ],
        [
         "15715541",
         "0"
        ],
        [
         "15639277",
         "0"
        ],
        [
         "15798850",
         "0"
        ],
        [
         "15776348",
         "0"
        ],
        [
         "15727696",
         "1"
        ],
        [
         "15793813",
         "0"
        ]
       ],
       "shape": {
        "columns": 1,
        "rows": 400
       }
      },
      "text/plain": [
       "User ID\n",
       "15624510    0\n",
       "15810944    0\n",
       "15668575    0\n",
       "15603246    0\n",
       "15804002    0\n",
       "           ..\n",
       "15691863    1\n",
       "15706071    1\n",
       "15654296    1\n",
       "15755018    0\n",
       "15594041    1\n",
       "Name: Purchased, Length: 400, dtype: int64"
      ]
     },
     "execution_count": 18,
     "metadata": {},
     "output_type": "execute_result"
    }
   ],
   "source": [
    "y = df['Purchased']\n",
    "y"
   ]
  },
  {
   "cell_type": "code",
   "execution_count": 19,
   "id": "16c3f413",
   "metadata": {},
   "outputs": [],
   "source": [
    "X_train, X_val, y_train, y_val = train_test_split(X,y,test_size=0.2,random_state=2025)"
   ]
  },
  {
   "cell_type": "code",
   "execution_count": 20,
   "id": "69d709aa",
   "metadata": {},
   "outputs": [
    {
     "data": {
      "text/html": [
       "<style>#sk-container-id-1 {\n",
       "  /* Definition of color scheme common for light and dark mode */\n",
       "  --sklearn-color-text: #000;\n",
       "  --sklearn-color-text-muted: #666;\n",
       "  --sklearn-color-line: gray;\n",
       "  /* Definition of color scheme for unfitted estimators */\n",
       "  --sklearn-color-unfitted-level-0: #fff5e6;\n",
       "  --sklearn-color-unfitted-level-1: #f6e4d2;\n",
       "  --sklearn-color-unfitted-level-2: #ffe0b3;\n",
       "  --sklearn-color-unfitted-level-3: chocolate;\n",
       "  /* Definition of color scheme for fitted estimators */\n",
       "  --sklearn-color-fitted-level-0: #f0f8ff;\n",
       "  --sklearn-color-fitted-level-1: #d4ebff;\n",
       "  --sklearn-color-fitted-level-2: #b3dbfd;\n",
       "  --sklearn-color-fitted-level-3: cornflowerblue;\n",
       "\n",
       "  /* Specific color for light theme */\n",
       "  --sklearn-color-text-on-default-background: var(--sg-text-color, var(--theme-code-foreground, var(--jp-content-font-color1, black)));\n",
       "  --sklearn-color-background: var(--sg-background-color, var(--theme-background, var(--jp-layout-color0, white)));\n",
       "  --sklearn-color-border-box: var(--sg-text-color, var(--theme-code-foreground, var(--jp-content-font-color1, black)));\n",
       "  --sklearn-color-icon: #696969;\n",
       "\n",
       "  @media (prefers-color-scheme: dark) {\n",
       "    /* Redefinition of color scheme for dark theme */\n",
       "    --sklearn-color-text-on-default-background: var(--sg-text-color, var(--theme-code-foreground, var(--jp-content-font-color1, white)));\n",
       "    --sklearn-color-background: var(--sg-background-color, var(--theme-background, var(--jp-layout-color0, #111)));\n",
       "    --sklearn-color-border-box: var(--sg-text-color, var(--theme-code-foreground, var(--jp-content-font-color1, white)));\n",
       "    --sklearn-color-icon: #878787;\n",
       "  }\n",
       "}\n",
       "\n",
       "#sk-container-id-1 {\n",
       "  color: var(--sklearn-color-text);\n",
       "}\n",
       "\n",
       "#sk-container-id-1 pre {\n",
       "  padding: 0;\n",
       "}\n",
       "\n",
       "#sk-container-id-1 input.sk-hidden--visually {\n",
       "  border: 0;\n",
       "  clip: rect(1px 1px 1px 1px);\n",
       "  clip: rect(1px, 1px, 1px, 1px);\n",
       "  height: 1px;\n",
       "  margin: -1px;\n",
       "  overflow: hidden;\n",
       "  padding: 0;\n",
       "  position: absolute;\n",
       "  width: 1px;\n",
       "}\n",
       "\n",
       "#sk-container-id-1 div.sk-dashed-wrapped {\n",
       "  border: 1px dashed var(--sklearn-color-line);\n",
       "  margin: 0 0.4em 0.5em 0.4em;\n",
       "  box-sizing: border-box;\n",
       "  padding-bottom: 0.4em;\n",
       "  background-color: var(--sklearn-color-background);\n",
       "}\n",
       "\n",
       "#sk-container-id-1 div.sk-container {\n",
       "  /* jupyter's `normalize.less` sets `[hidden] { display: none; }`\n",
       "     but bootstrap.min.css set `[hidden] { display: none !important; }`\n",
       "     so we also need the `!important` here to be able to override the\n",
       "     default hidden behavior on the sphinx rendered scikit-learn.org.\n",
       "     See: https://github.com/scikit-learn/scikit-learn/issues/21755 */\n",
       "  display: inline-block !important;\n",
       "  position: relative;\n",
       "}\n",
       "\n",
       "#sk-container-id-1 div.sk-text-repr-fallback {\n",
       "  display: none;\n",
       "}\n",
       "\n",
       "div.sk-parallel-item,\n",
       "div.sk-serial,\n",
       "div.sk-item {\n",
       "  /* draw centered vertical line to link estimators */\n",
       "  background-image: linear-gradient(var(--sklearn-color-text-on-default-background), var(--sklearn-color-text-on-default-background));\n",
       "  background-size: 2px 100%;\n",
       "  background-repeat: no-repeat;\n",
       "  background-position: center center;\n",
       "}\n",
       "\n",
       "/* Parallel-specific style estimator block */\n",
       "\n",
       "#sk-container-id-1 div.sk-parallel-item::after {\n",
       "  content: \"\";\n",
       "  width: 100%;\n",
       "  border-bottom: 2px solid var(--sklearn-color-text-on-default-background);\n",
       "  flex-grow: 1;\n",
       "}\n",
       "\n",
       "#sk-container-id-1 div.sk-parallel {\n",
       "  display: flex;\n",
       "  align-items: stretch;\n",
       "  justify-content: center;\n",
       "  background-color: var(--sklearn-color-background);\n",
       "  position: relative;\n",
       "}\n",
       "\n",
       "#sk-container-id-1 div.sk-parallel-item {\n",
       "  display: flex;\n",
       "  flex-direction: column;\n",
       "}\n",
       "\n",
       "#sk-container-id-1 div.sk-parallel-item:first-child::after {\n",
       "  align-self: flex-end;\n",
       "  width: 50%;\n",
       "}\n",
       "\n",
       "#sk-container-id-1 div.sk-parallel-item:last-child::after {\n",
       "  align-self: flex-start;\n",
       "  width: 50%;\n",
       "}\n",
       "\n",
       "#sk-container-id-1 div.sk-parallel-item:only-child::after {\n",
       "  width: 0;\n",
       "}\n",
       "\n",
       "/* Serial-specific style estimator block */\n",
       "\n",
       "#sk-container-id-1 div.sk-serial {\n",
       "  display: flex;\n",
       "  flex-direction: column;\n",
       "  align-items: center;\n",
       "  background-color: var(--sklearn-color-background);\n",
       "  padding-right: 1em;\n",
       "  padding-left: 1em;\n",
       "}\n",
       "\n",
       "\n",
       "/* Toggleable style: style used for estimator/Pipeline/ColumnTransformer box that is\n",
       "clickable and can be expanded/collapsed.\n",
       "- Pipeline and ColumnTransformer use this feature and define the default style\n",
       "- Estimators will overwrite some part of the style using the `sk-estimator` class\n",
       "*/\n",
       "\n",
       "/* Pipeline and ColumnTransformer style (default) */\n",
       "\n",
       "#sk-container-id-1 div.sk-toggleable {\n",
       "  /* Default theme specific background. It is overwritten whether we have a\n",
       "  specific estimator or a Pipeline/ColumnTransformer */\n",
       "  background-color: var(--sklearn-color-background);\n",
       "}\n",
       "\n",
       "/* Toggleable label */\n",
       "#sk-container-id-1 label.sk-toggleable__label {\n",
       "  cursor: pointer;\n",
       "  display: flex;\n",
       "  width: 100%;\n",
       "  margin-bottom: 0;\n",
       "  padding: 0.5em;\n",
       "  box-sizing: border-box;\n",
       "  text-align: center;\n",
       "  align-items: start;\n",
       "  justify-content: space-between;\n",
       "  gap: 0.5em;\n",
       "}\n",
       "\n",
       "#sk-container-id-1 label.sk-toggleable__label .caption {\n",
       "  font-size: 0.6rem;\n",
       "  font-weight: lighter;\n",
       "  color: var(--sklearn-color-text-muted);\n",
       "}\n",
       "\n",
       "#sk-container-id-1 label.sk-toggleable__label-arrow:before {\n",
       "  /* Arrow on the left of the label */\n",
       "  content: \"▸\";\n",
       "  float: left;\n",
       "  margin-right: 0.25em;\n",
       "  color: var(--sklearn-color-icon);\n",
       "}\n",
       "\n",
       "#sk-container-id-1 label.sk-toggleable__label-arrow:hover:before {\n",
       "  color: var(--sklearn-color-text);\n",
       "}\n",
       "\n",
       "/* Toggleable content - dropdown */\n",
       "\n",
       "#sk-container-id-1 div.sk-toggleable__content {\n",
       "  display: none;\n",
       "  text-align: left;\n",
       "  /* unfitted */\n",
       "  background-color: var(--sklearn-color-unfitted-level-0);\n",
       "}\n",
       "\n",
       "#sk-container-id-1 div.sk-toggleable__content.fitted {\n",
       "  /* fitted */\n",
       "  background-color: var(--sklearn-color-fitted-level-0);\n",
       "}\n",
       "\n",
       "#sk-container-id-1 div.sk-toggleable__content pre {\n",
       "  margin: 0.2em;\n",
       "  border-radius: 0.25em;\n",
       "  color: var(--sklearn-color-text);\n",
       "  /* unfitted */\n",
       "  background-color: var(--sklearn-color-unfitted-level-0);\n",
       "}\n",
       "\n",
       "#sk-container-id-1 div.sk-toggleable__content.fitted pre {\n",
       "  /* unfitted */\n",
       "  background-color: var(--sklearn-color-fitted-level-0);\n",
       "}\n",
       "\n",
       "#sk-container-id-1 input.sk-toggleable__control:checked~div.sk-toggleable__content {\n",
       "  /* Expand drop-down */\n",
       "  display: block;\n",
       "  width: 100%;\n",
       "  overflow: visible;\n",
       "}\n",
       "\n",
       "#sk-container-id-1 input.sk-toggleable__control:checked~label.sk-toggleable__label-arrow:before {\n",
       "  content: \"▾\";\n",
       "}\n",
       "\n",
       "/* Pipeline/ColumnTransformer-specific style */\n",
       "\n",
       "#sk-container-id-1 div.sk-label input.sk-toggleable__control:checked~label.sk-toggleable__label {\n",
       "  color: var(--sklearn-color-text);\n",
       "  background-color: var(--sklearn-color-unfitted-level-2);\n",
       "}\n",
       "\n",
       "#sk-container-id-1 div.sk-label.fitted input.sk-toggleable__control:checked~label.sk-toggleable__label {\n",
       "  background-color: var(--sklearn-color-fitted-level-2);\n",
       "}\n",
       "\n",
       "/* Estimator-specific style */\n",
       "\n",
       "/* Colorize estimator box */\n",
       "#sk-container-id-1 div.sk-estimator input.sk-toggleable__control:checked~label.sk-toggleable__label {\n",
       "  /* unfitted */\n",
       "  background-color: var(--sklearn-color-unfitted-level-2);\n",
       "}\n",
       "\n",
       "#sk-container-id-1 div.sk-estimator.fitted input.sk-toggleable__control:checked~label.sk-toggleable__label {\n",
       "  /* fitted */\n",
       "  background-color: var(--sklearn-color-fitted-level-2);\n",
       "}\n",
       "\n",
       "#sk-container-id-1 div.sk-label label.sk-toggleable__label,\n",
       "#sk-container-id-1 div.sk-label label {\n",
       "  /* The background is the default theme color */\n",
       "  color: var(--sklearn-color-text-on-default-background);\n",
       "}\n",
       "\n",
       "/* On hover, darken the color of the background */\n",
       "#sk-container-id-1 div.sk-label:hover label.sk-toggleable__label {\n",
       "  color: var(--sklearn-color-text);\n",
       "  background-color: var(--sklearn-color-unfitted-level-2);\n",
       "}\n",
       "\n",
       "/* Label box, darken color on hover, fitted */\n",
       "#sk-container-id-1 div.sk-label.fitted:hover label.sk-toggleable__label.fitted {\n",
       "  color: var(--sklearn-color-text);\n",
       "  background-color: var(--sklearn-color-fitted-level-2);\n",
       "}\n",
       "\n",
       "/* Estimator label */\n",
       "\n",
       "#sk-container-id-1 div.sk-label label {\n",
       "  font-family: monospace;\n",
       "  font-weight: bold;\n",
       "  display: inline-block;\n",
       "  line-height: 1.2em;\n",
       "}\n",
       "\n",
       "#sk-container-id-1 div.sk-label-container {\n",
       "  text-align: center;\n",
       "}\n",
       "\n",
       "/* Estimator-specific */\n",
       "#sk-container-id-1 div.sk-estimator {\n",
       "  font-family: monospace;\n",
       "  border: 1px dotted var(--sklearn-color-border-box);\n",
       "  border-radius: 0.25em;\n",
       "  box-sizing: border-box;\n",
       "  margin-bottom: 0.5em;\n",
       "  /* unfitted */\n",
       "  background-color: var(--sklearn-color-unfitted-level-0);\n",
       "}\n",
       "\n",
       "#sk-container-id-1 div.sk-estimator.fitted {\n",
       "  /* fitted */\n",
       "  background-color: var(--sklearn-color-fitted-level-0);\n",
       "}\n",
       "\n",
       "/* on hover */\n",
       "#sk-container-id-1 div.sk-estimator:hover {\n",
       "  /* unfitted */\n",
       "  background-color: var(--sklearn-color-unfitted-level-2);\n",
       "}\n",
       "\n",
       "#sk-container-id-1 div.sk-estimator.fitted:hover {\n",
       "  /* fitted */\n",
       "  background-color: var(--sklearn-color-fitted-level-2);\n",
       "}\n",
       "\n",
       "/* Specification for estimator info (e.g. \"i\" and \"?\") */\n",
       "\n",
       "/* Common style for \"i\" and \"?\" */\n",
       "\n",
       ".sk-estimator-doc-link,\n",
       "a:link.sk-estimator-doc-link,\n",
       "a:visited.sk-estimator-doc-link {\n",
       "  float: right;\n",
       "  font-size: smaller;\n",
       "  line-height: 1em;\n",
       "  font-family: monospace;\n",
       "  background-color: var(--sklearn-color-background);\n",
       "  border-radius: 1em;\n",
       "  height: 1em;\n",
       "  width: 1em;\n",
       "  text-decoration: none !important;\n",
       "  margin-left: 0.5em;\n",
       "  text-align: center;\n",
       "  /* unfitted */\n",
       "  border: var(--sklearn-color-unfitted-level-1) 1pt solid;\n",
       "  color: var(--sklearn-color-unfitted-level-1);\n",
       "}\n",
       "\n",
       ".sk-estimator-doc-link.fitted,\n",
       "a:link.sk-estimator-doc-link.fitted,\n",
       "a:visited.sk-estimator-doc-link.fitted {\n",
       "  /* fitted */\n",
       "  border: var(--sklearn-color-fitted-level-1) 1pt solid;\n",
       "  color: var(--sklearn-color-fitted-level-1);\n",
       "}\n",
       "\n",
       "/* On hover */\n",
       "div.sk-estimator:hover .sk-estimator-doc-link:hover,\n",
       ".sk-estimator-doc-link:hover,\n",
       "div.sk-label-container:hover .sk-estimator-doc-link:hover,\n",
       ".sk-estimator-doc-link:hover {\n",
       "  /* unfitted */\n",
       "  background-color: var(--sklearn-color-unfitted-level-3);\n",
       "  color: var(--sklearn-color-background);\n",
       "  text-decoration: none;\n",
       "}\n",
       "\n",
       "div.sk-estimator.fitted:hover .sk-estimator-doc-link.fitted:hover,\n",
       ".sk-estimator-doc-link.fitted:hover,\n",
       "div.sk-label-container:hover .sk-estimator-doc-link.fitted:hover,\n",
       ".sk-estimator-doc-link.fitted:hover {\n",
       "  /* fitted */\n",
       "  background-color: var(--sklearn-color-fitted-level-3);\n",
       "  color: var(--sklearn-color-background);\n",
       "  text-decoration: none;\n",
       "}\n",
       "\n",
       "/* Span, style for the box shown on hovering the info icon */\n",
       ".sk-estimator-doc-link span {\n",
       "  display: none;\n",
       "  z-index: 9999;\n",
       "  position: relative;\n",
       "  font-weight: normal;\n",
       "  right: .2ex;\n",
       "  padding: .5ex;\n",
       "  margin: .5ex;\n",
       "  width: min-content;\n",
       "  min-width: 20ex;\n",
       "  max-width: 50ex;\n",
       "  color: var(--sklearn-color-text);\n",
       "  box-shadow: 2pt 2pt 4pt #999;\n",
       "  /* unfitted */\n",
       "  background: var(--sklearn-color-unfitted-level-0);\n",
       "  border: .5pt solid var(--sklearn-color-unfitted-level-3);\n",
       "}\n",
       "\n",
       ".sk-estimator-doc-link.fitted span {\n",
       "  /* fitted */\n",
       "  background: var(--sklearn-color-fitted-level-0);\n",
       "  border: var(--sklearn-color-fitted-level-3);\n",
       "}\n",
       "\n",
       ".sk-estimator-doc-link:hover span {\n",
       "  display: block;\n",
       "}\n",
       "\n",
       "/* \"?\"-specific style due to the `<a>` HTML tag */\n",
       "\n",
       "#sk-container-id-1 a.estimator_doc_link {\n",
       "  float: right;\n",
       "  font-size: 1rem;\n",
       "  line-height: 1em;\n",
       "  font-family: monospace;\n",
       "  background-color: var(--sklearn-color-background);\n",
       "  border-radius: 1rem;\n",
       "  height: 1rem;\n",
       "  width: 1rem;\n",
       "  text-decoration: none;\n",
       "  /* unfitted */\n",
       "  color: var(--sklearn-color-unfitted-level-1);\n",
       "  border: var(--sklearn-color-unfitted-level-1) 1pt solid;\n",
       "}\n",
       "\n",
       "#sk-container-id-1 a.estimator_doc_link.fitted {\n",
       "  /* fitted */\n",
       "  border: var(--sklearn-color-fitted-level-1) 1pt solid;\n",
       "  color: var(--sklearn-color-fitted-level-1);\n",
       "}\n",
       "\n",
       "/* On hover */\n",
       "#sk-container-id-1 a.estimator_doc_link:hover {\n",
       "  /* unfitted */\n",
       "  background-color: var(--sklearn-color-unfitted-level-3);\n",
       "  color: var(--sklearn-color-background);\n",
       "  text-decoration: none;\n",
       "}\n",
       "\n",
       "#sk-container-id-1 a.estimator_doc_link.fitted:hover {\n",
       "  /* fitted */\n",
       "  background-color: var(--sklearn-color-fitted-level-3);\n",
       "}\n",
       "\n",
       ".estimator-table summary {\n",
       "    padding: .5rem;\n",
       "    font-family: monospace;\n",
       "    cursor: pointer;\n",
       "}\n",
       "\n",
       ".estimator-table details[open] {\n",
       "    padding-left: 0.1rem;\n",
       "    padding-right: 0.1rem;\n",
       "    padding-bottom: 0.3rem;\n",
       "}\n",
       "\n",
       ".estimator-table .parameters-table {\n",
       "    margin-left: auto !important;\n",
       "    margin-right: auto !important;\n",
       "}\n",
       "\n",
       ".estimator-table .parameters-table tr:nth-child(odd) {\n",
       "    background-color: #fff;\n",
       "}\n",
       "\n",
       ".estimator-table .parameters-table tr:nth-child(even) {\n",
       "    background-color: #f6f6f6;\n",
       "}\n",
       "\n",
       ".estimator-table .parameters-table tr:hover {\n",
       "    background-color: #e0e0e0;\n",
       "}\n",
       "\n",
       ".estimator-table table td {\n",
       "    border: 1px solid rgba(106, 105, 104, 0.232);\n",
       "}\n",
       "\n",
       ".user-set td {\n",
       "    color:rgb(255, 94, 0);\n",
       "    text-align: left;\n",
       "}\n",
       "\n",
       ".user-set td.value pre {\n",
       "    color:rgb(255, 94, 0) !important;\n",
       "    background-color: transparent !important;\n",
       "}\n",
       "\n",
       ".default td {\n",
       "    color: black;\n",
       "    text-align: left;\n",
       "}\n",
       "\n",
       ".user-set td i,\n",
       ".default td i {\n",
       "    color: black;\n",
       "}\n",
       "\n",
       ".copy-paste-icon {\n",
       "    background-image: url(data:image/svg+xml;base64,PHN2ZyB4bWxucz0iaHR0cDovL3d3dy53My5vcmcvMjAwMC9zdmciIHZpZXdCb3g9IjAgMCA0NDggNTEyIj48IS0tIUZvbnQgQXdlc29tZSBGcmVlIDYuNy4yIGJ5IEBmb250YXdlc29tZSAtIGh0dHBzOi8vZm9udGF3ZXNvbWUuY29tIExpY2Vuc2UgLSBodHRwczovL2ZvbnRhd2Vzb21lLmNvbS9saWNlbnNlL2ZyZWUgQ29weXJpZ2h0IDIwMjUgRm9udGljb25zLCBJbmMuLS0+PHBhdGggZD0iTTIwOCAwTDMzMi4xIDBjMTIuNyAwIDI0LjkgNS4xIDMzLjkgMTQuMWw2Ny45IDY3LjljOSA5IDE0LjEgMjEuMiAxNC4xIDMzLjlMNDQ4IDMzNmMwIDI2LjUtMjEuNSA0OC00OCA0OGwtMTkyIDBjLTI2LjUgMC00OC0yMS41LTQ4LTQ4bDAtMjg4YzAtMjYuNSAyMS41LTQ4IDQ4LTQ4ek00OCAxMjhsODAgMCAwIDY0LTY0IDAgMCAyNTYgMTkyIDAgMC0zMiA2NCAwIDAgNDhjMCAyNi41LTIxLjUgNDgtNDggNDhMNDggNTEyYy0yNi41IDAtNDgtMjEuNS00OC00OEwwIDE3NmMwLTI2LjUgMjEuNS00OCA0OC00OHoiLz48L3N2Zz4=);\n",
       "    background-repeat: no-repeat;\n",
       "    background-size: 14px 14px;\n",
       "    background-position: 0;\n",
       "    display: inline-block;\n",
       "    width: 14px;\n",
       "    height: 14px;\n",
       "    cursor: pointer;\n",
       "}\n",
       "</style><body><div id=\"sk-container-id-1\" class=\"sk-top-container\"><div class=\"sk-text-repr-fallback\"><pre>LogisticRegression(max_iter=1000)</pre><b>In a Jupyter environment, please rerun this cell to show the HTML representation or trust the notebook. <br />On GitHub, the HTML representation is unable to render, please try loading this page with nbviewer.org.</b></div><div class=\"sk-container\" hidden><div class=\"sk-item\"><div class=\"sk-estimator fitted sk-toggleable\"><input class=\"sk-toggleable__control sk-hidden--visually\" id=\"sk-estimator-id-1\" type=\"checkbox\" checked><label for=\"sk-estimator-id-1\" class=\"sk-toggleable__label fitted sk-toggleable__label-arrow\"><div><div>LogisticRegression</div></div><div><a class=\"sk-estimator-doc-link fitted\" rel=\"noreferrer\" target=\"_blank\" href=\"https://scikit-learn.org/1.7/modules/generated/sklearn.linear_model.LogisticRegression.html\">?<span>Documentation for LogisticRegression</span></a><span class=\"sk-estimator-doc-link fitted\">i<span>Fitted</span></span></div></label><div class=\"sk-toggleable__content fitted\" data-param-prefix=\"\">\n",
       "        <div class=\"estimator-table\">\n",
       "            <details>\n",
       "                <summary>Parameters</summary>\n",
       "                <table class=\"parameters-table\">\n",
       "                  <tbody>\n",
       "                    \n",
       "        <tr class=\"default\">\n",
       "            <td><i class=\"copy-paste-icon\"\n",
       "                 onclick=\"copyToClipboard('penalty',\n",
       "                          this.parentElement.nextElementSibling)\"\n",
       "            ></i></td>\n",
       "            <td class=\"param\">penalty&nbsp;</td>\n",
       "            <td class=\"value\">&#x27;l2&#x27;</td>\n",
       "        </tr>\n",
       "    \n",
       "\n",
       "        <tr class=\"default\">\n",
       "            <td><i class=\"copy-paste-icon\"\n",
       "                 onclick=\"copyToClipboard('dual',\n",
       "                          this.parentElement.nextElementSibling)\"\n",
       "            ></i></td>\n",
       "            <td class=\"param\">dual&nbsp;</td>\n",
       "            <td class=\"value\">False</td>\n",
       "        </tr>\n",
       "    \n",
       "\n",
       "        <tr class=\"default\">\n",
       "            <td><i class=\"copy-paste-icon\"\n",
       "                 onclick=\"copyToClipboard('tol',\n",
       "                          this.parentElement.nextElementSibling)\"\n",
       "            ></i></td>\n",
       "            <td class=\"param\">tol&nbsp;</td>\n",
       "            <td class=\"value\">0.0001</td>\n",
       "        </tr>\n",
       "    \n",
       "\n",
       "        <tr class=\"default\">\n",
       "            <td><i class=\"copy-paste-icon\"\n",
       "                 onclick=\"copyToClipboard('C',\n",
       "                          this.parentElement.nextElementSibling)\"\n",
       "            ></i></td>\n",
       "            <td class=\"param\">C&nbsp;</td>\n",
       "            <td class=\"value\">1.0</td>\n",
       "        </tr>\n",
       "    \n",
       "\n",
       "        <tr class=\"default\">\n",
       "            <td><i class=\"copy-paste-icon\"\n",
       "                 onclick=\"copyToClipboard('fit_intercept',\n",
       "                          this.parentElement.nextElementSibling)\"\n",
       "            ></i></td>\n",
       "            <td class=\"param\">fit_intercept&nbsp;</td>\n",
       "            <td class=\"value\">True</td>\n",
       "        </tr>\n",
       "    \n",
       "\n",
       "        <tr class=\"default\">\n",
       "            <td><i class=\"copy-paste-icon\"\n",
       "                 onclick=\"copyToClipboard('intercept_scaling',\n",
       "                          this.parentElement.nextElementSibling)\"\n",
       "            ></i></td>\n",
       "            <td class=\"param\">intercept_scaling&nbsp;</td>\n",
       "            <td class=\"value\">1</td>\n",
       "        </tr>\n",
       "    \n",
       "\n",
       "        <tr class=\"default\">\n",
       "            <td><i class=\"copy-paste-icon\"\n",
       "                 onclick=\"copyToClipboard('class_weight',\n",
       "                          this.parentElement.nextElementSibling)\"\n",
       "            ></i></td>\n",
       "            <td class=\"param\">class_weight&nbsp;</td>\n",
       "            <td class=\"value\">None</td>\n",
       "        </tr>\n",
       "    \n",
       "\n",
       "        <tr class=\"default\">\n",
       "            <td><i class=\"copy-paste-icon\"\n",
       "                 onclick=\"copyToClipboard('random_state',\n",
       "                          this.parentElement.nextElementSibling)\"\n",
       "            ></i></td>\n",
       "            <td class=\"param\">random_state&nbsp;</td>\n",
       "            <td class=\"value\">None</td>\n",
       "        </tr>\n",
       "    \n",
       "\n",
       "        <tr class=\"default\">\n",
       "            <td><i class=\"copy-paste-icon\"\n",
       "                 onclick=\"copyToClipboard('solver',\n",
       "                          this.parentElement.nextElementSibling)\"\n",
       "            ></i></td>\n",
       "            <td class=\"param\">solver&nbsp;</td>\n",
       "            <td class=\"value\">&#x27;lbfgs&#x27;</td>\n",
       "        </tr>\n",
       "    \n",
       "\n",
       "        <tr class=\"user-set\">\n",
       "            <td><i class=\"copy-paste-icon\"\n",
       "                 onclick=\"copyToClipboard('max_iter',\n",
       "                          this.parentElement.nextElementSibling)\"\n",
       "            ></i></td>\n",
       "            <td class=\"param\">max_iter&nbsp;</td>\n",
       "            <td class=\"value\">1000</td>\n",
       "        </tr>\n",
       "    \n",
       "\n",
       "        <tr class=\"default\">\n",
       "            <td><i class=\"copy-paste-icon\"\n",
       "                 onclick=\"copyToClipboard('multi_class',\n",
       "                          this.parentElement.nextElementSibling)\"\n",
       "            ></i></td>\n",
       "            <td class=\"param\">multi_class&nbsp;</td>\n",
       "            <td class=\"value\">&#x27;deprecated&#x27;</td>\n",
       "        </tr>\n",
       "    \n",
       "\n",
       "        <tr class=\"default\">\n",
       "            <td><i class=\"copy-paste-icon\"\n",
       "                 onclick=\"copyToClipboard('verbose',\n",
       "                          this.parentElement.nextElementSibling)\"\n",
       "            ></i></td>\n",
       "            <td class=\"param\">verbose&nbsp;</td>\n",
       "            <td class=\"value\">0</td>\n",
       "        </tr>\n",
       "    \n",
       "\n",
       "        <tr class=\"default\">\n",
       "            <td><i class=\"copy-paste-icon\"\n",
       "                 onclick=\"copyToClipboard('warm_start',\n",
       "                          this.parentElement.nextElementSibling)\"\n",
       "            ></i></td>\n",
       "            <td class=\"param\">warm_start&nbsp;</td>\n",
       "            <td class=\"value\">False</td>\n",
       "        </tr>\n",
       "    \n",
       "\n",
       "        <tr class=\"default\">\n",
       "            <td><i class=\"copy-paste-icon\"\n",
       "                 onclick=\"copyToClipboard('n_jobs',\n",
       "                          this.parentElement.nextElementSibling)\"\n",
       "            ></i></td>\n",
       "            <td class=\"param\">n_jobs&nbsp;</td>\n",
       "            <td class=\"value\">None</td>\n",
       "        </tr>\n",
       "    \n",
       "\n",
       "        <tr class=\"default\">\n",
       "            <td><i class=\"copy-paste-icon\"\n",
       "                 onclick=\"copyToClipboard('l1_ratio',\n",
       "                          this.parentElement.nextElementSibling)\"\n",
       "            ></i></td>\n",
       "            <td class=\"param\">l1_ratio&nbsp;</td>\n",
       "            <td class=\"value\">None</td>\n",
       "        </tr>\n",
       "    \n",
       "                  </tbody>\n",
       "                </table>\n",
       "            </details>\n",
       "        </div>\n",
       "    </div></div></div></div></div><script>function copyToClipboard(text, element) {\n",
       "    // Get the parameter prefix from the closest toggleable content\n",
       "    const toggleableContent = element.closest('.sk-toggleable__content');\n",
       "    const paramPrefix = toggleableContent ? toggleableContent.dataset.paramPrefix : '';\n",
       "    const fullParamName = paramPrefix ? `${paramPrefix}${text}` : text;\n",
       "\n",
       "    const originalStyle = element.style;\n",
       "    const computedStyle = window.getComputedStyle(element);\n",
       "    const originalWidth = computedStyle.width;\n",
       "    const originalHTML = element.innerHTML.replace('Copied!', '');\n",
       "\n",
       "    navigator.clipboard.writeText(fullParamName)\n",
       "        .then(() => {\n",
       "            element.style.width = originalWidth;\n",
       "            element.style.color = 'green';\n",
       "            element.innerHTML = \"Copied!\";\n",
       "\n",
       "            setTimeout(() => {\n",
       "                element.innerHTML = originalHTML;\n",
       "                element.style = originalStyle;\n",
       "            }, 2000);\n",
       "        })\n",
       "        .catch(err => {\n",
       "            console.error('Failed to copy:', err);\n",
       "            element.style.color = 'red';\n",
       "            element.innerHTML = \"Failed!\";\n",
       "            setTimeout(() => {\n",
       "                element.innerHTML = originalHTML;\n",
       "                element.style = originalStyle;\n",
       "            }, 2000);\n",
       "        });\n",
       "    return false;\n",
       "}\n",
       "\n",
       "document.querySelectorAll('.fa-regular.fa-copy').forEach(function(element) {\n",
       "    const toggleableContent = element.closest('.sk-toggleable__content');\n",
       "    const paramPrefix = toggleableContent ? toggleableContent.dataset.paramPrefix : '';\n",
       "    const paramName = element.parentElement.nextElementSibling.textContent.trim();\n",
       "    const fullParamName = paramPrefix ? `${paramPrefix}${paramName}` : paramName;\n",
       "\n",
       "    element.setAttribute('title', fullParamName);\n",
       "});\n",
       "</script></body>"
      ],
      "text/plain": [
       "LogisticRegression(max_iter=1000)"
      ]
     },
     "execution_count": 20,
     "metadata": {},
     "output_type": "execute_result"
    }
   ],
   "source": [
    "logr_model = LogisticRegression(max_iter=1000)\n",
    "logr_model.fit(X_train,y_train)"
   ]
  },
  {
   "cell_type": "code",
   "execution_count": 21,
   "id": "c3343e62",
   "metadata": {},
   "outputs": [
    {
     "data": {
      "text/plain": [
       "0.9"
      ]
     },
     "execution_count": 21,
     "metadata": {},
     "output_type": "execute_result"
    }
   ],
   "source": [
    "logr_model.score(X_val,y_val)"
   ]
  },
  {
   "cell_type": "code",
   "execution_count": 22,
   "id": "d20672fb",
   "metadata": {},
   "outputs": [],
   "source": [
    "y_pred = logr_model.predict(X_val)"
   ]
  },
  {
   "cell_type": "code",
   "execution_count": 31,
   "id": "83c497b1",
   "metadata": {},
   "outputs": [
    {
     "name": "stdout",
     "output_type": "stream",
     "text": [
      "Accuracy: 0.9\n",
      "Classification report:               precision    recall  f1-score   support\n",
      "\n",
      "           0       0.89      0.96      0.93        52\n",
      "           1       0.92      0.79      0.85        28\n",
      "\n",
      "    accuracy                           0.90        80\n",
      "   macro avg       0.90      0.87      0.89        80\n",
      "weighted avg       0.90      0.90      0.90        80\n",
      "\n"
     ]
    },
    {
     "data": {
      "image/png": "[encoded data removed]",
      "text/plain": [
       "<Figure size 640x480 with 2 Axes>"
      ]
     },
     "metadata": {},
     "output_type": "display_data"
    }
   ],
   "source": [
    "print(f'Accuracy: {accuracy_score(y_val,y_pred)}')\n",
    "print(f'Classification report: {classification_report(y_val,y_pred)}')\n",
    "confusion_matrix\n",
    "sns.heatmap(confusion_matrix(y_val,y_pred),cmap='viridis',annot=True,fmt='d')\n",
    "plt.xlabel('Predicted')\n",
    "plt.ylabel('Actual')\n",
    "plt.title('Confusion Matrix')\n",
    "plt.show()"
   ]
  }
 ],
 "metadata": {
  "kernelspec": {
   "display_name": "Python (System)",
   "language": "python",
   "name": "python-system"
  },
  "language_info": {
   "codemirror_mode": {
    "name": "ipython",
    "version": 3
   },
   "file_extension": ".py",
   "mimetype": "text/x-python",
   "name": "python",
   "nbconvert_exporter": "python",
   "pygments_lexer": "ipython3",
   "version": "3.13.5"
  }
 },
 "nbformat": 4,
 "nbformat_minor": 5
}
